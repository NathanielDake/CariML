{
 "cells": [
  {
   "cell_type": "markdown",
   "metadata": {},
   "source": [
    "### Start with imports"
   ]
  },
  {
   "cell_type": "code",
   "execution_count": 1,
   "metadata": {
    "collapsed": true
   },
   "outputs": [],
   "source": [
    "import numpy as np\n",
    "import pandas as pd \n",
    "import matplotlib.pyplot as plt\n",
    "import seaborn as sns\n",
    "\n",
    "%matplotlib inline "
   ]
  },
  {
   "cell_type": "markdown",
   "metadata": {},
   "source": [
    "### 1. Load Data"
   ]
  },
  {
   "cell_type": "code",
   "execution_count": 2,
   "metadata": {
    "collapsed": true
   },
   "outputs": [],
   "source": [
    "df = pd.read_csv('data/data.csv', encoding=\"ISO-8859-1\", dtype={'CustomerID': str,'InvoiceID': str})\n",
    "df.InvoiceDate = pd.to_datetime(df.InvoiceDate, format=\"%m/%d/%Y %H:%M\")\n"
   ]
  },
  {
   "cell_type": "markdown",
   "metadata": {},
   "source": [
    "### 2. Explore Data Set"
   ]
  },
  {
   "cell_type": "code",
   "execution_count": 3,
   "metadata": {},
   "outputs": [
    {
     "data": {
      "text/html": [
       "<div>\n",
       "<style scoped>\n",
       "    .dataframe tbody tr th:only-of-type {\n",
       "        vertical-align: middle;\n",
       "    }\n",
       "\n",
       "    .dataframe tbody tr th {\n",
       "        vertical-align: top;\n",
       "    }\n",
       "\n",
       "    .dataframe thead th {\n",
       "        text-align: right;\n",
       "    }\n",
       "</style>\n",
       "<table border=\"1\" class=\"dataframe\">\n",
       "  <thead>\n",
       "    <tr style=\"text-align: right;\">\n",
       "      <th></th>\n",
       "      <th>InvoiceNo</th>\n",
       "      <th>StockCode</th>\n",
       "      <th>Description</th>\n",
       "      <th>Quantity</th>\n",
       "      <th>InvoiceDate</th>\n",
       "      <th>UnitPrice</th>\n",
       "      <th>CustomerID</th>\n",
       "      <th>Country</th>\n",
       "    </tr>\n",
       "  </thead>\n",
       "  <tbody>\n",
       "    <tr>\n",
       "      <th>0</th>\n",
       "      <td>536365</td>\n",
       "      <td>85123A</td>\n",
       "      <td>WHITE HANGING HEART T-LIGHT HOLDER</td>\n",
       "      <td>6</td>\n",
       "      <td>2010-12-01 08:26:00</td>\n",
       "      <td>2.55</td>\n",
       "      <td>17850</td>\n",
       "      <td>United Kingdom</td>\n",
       "    </tr>\n",
       "    <tr>\n",
       "      <th>1</th>\n",
       "      <td>536365</td>\n",
       "      <td>71053</td>\n",
       "      <td>WHITE METAL LANTERN</td>\n",
       "      <td>6</td>\n",
       "      <td>2010-12-01 08:26:00</td>\n",
       "      <td>3.39</td>\n",
       "      <td>17850</td>\n",
       "      <td>United Kingdom</td>\n",
       "    </tr>\n",
       "    <tr>\n",
       "      <th>2</th>\n",
       "      <td>536365</td>\n",
       "      <td>84406B</td>\n",
       "      <td>CREAM CUPID HEARTS COAT HANGER</td>\n",
       "      <td>8</td>\n",
       "      <td>2010-12-01 08:26:00</td>\n",
       "      <td>2.75</td>\n",
       "      <td>17850</td>\n",
       "      <td>United Kingdom</td>\n",
       "    </tr>\n",
       "    <tr>\n",
       "      <th>3</th>\n",
       "      <td>536365</td>\n",
       "      <td>84029G</td>\n",
       "      <td>KNITTED UNION FLAG HOT WATER BOTTLE</td>\n",
       "      <td>6</td>\n",
       "      <td>2010-12-01 08:26:00</td>\n",
       "      <td>3.39</td>\n",
       "      <td>17850</td>\n",
       "      <td>United Kingdom</td>\n",
       "    </tr>\n",
       "    <tr>\n",
       "      <th>4</th>\n",
       "      <td>536365</td>\n",
       "      <td>84029E</td>\n",
       "      <td>RED WOOLLY HOTTIE WHITE HEART.</td>\n",
       "      <td>6</td>\n",
       "      <td>2010-12-01 08:26:00</td>\n",
       "      <td>3.39</td>\n",
       "      <td>17850</td>\n",
       "      <td>United Kingdom</td>\n",
       "    </tr>\n",
       "  </tbody>\n",
       "</table>\n",
       "</div>"
      ],
      "text/plain": [
       "  InvoiceNo StockCode                          Description  Quantity  \\\n",
       "0    536365    85123A   WHITE HANGING HEART T-LIGHT HOLDER         6   \n",
       "1    536365     71053                  WHITE METAL LANTERN         6   \n",
       "2    536365    84406B       CREAM CUPID HEARTS COAT HANGER         8   \n",
       "3    536365    84029G  KNITTED UNION FLAG HOT WATER BOTTLE         6   \n",
       "4    536365    84029E       RED WOOLLY HOTTIE WHITE HEART.         6   \n",
       "\n",
       "          InvoiceDate  UnitPrice CustomerID         Country  \n",
       "0 2010-12-01 08:26:00       2.55      17850  United Kingdom  \n",
       "1 2010-12-01 08:26:00       3.39      17850  United Kingdom  \n",
       "2 2010-12-01 08:26:00       2.75      17850  United Kingdom  \n",
       "3 2010-12-01 08:26:00       3.39      17850  United Kingdom  \n",
       "4 2010-12-01 08:26:00       3.39      17850  United Kingdom  "
      ]
     },
     "execution_count": 3,
     "metadata": {},
     "output_type": "execute_result"
    }
   ],
   "source": [
    "df.head()"
   ]
  },
  {
   "cell_type": "code",
   "execution_count": 4,
   "metadata": {},
   "outputs": [
    {
     "name": "stdout",
     "output_type": "stream",
     "text": [
      "<class 'pandas.core.frame.DataFrame'>\n",
      "RangeIndex: 541909 entries, 0 to 541908\n",
      "Data columns (total 8 columns):\n",
      "InvoiceNo      541909 non-null object\n",
      "StockCode      541909 non-null object\n",
      "Description    540455 non-null object\n",
      "Quantity       541909 non-null int64\n",
      "InvoiceDate    541909 non-null datetime64[ns]\n",
      "UnitPrice      541909 non-null float64\n",
      "CustomerID     406829 non-null object\n",
      "Country        541909 non-null object\n",
      "dtypes: datetime64[ns](1), float64(1), int64(1), object(5)\n",
      "memory usage: 33.1+ MB\n"
     ]
    }
   ],
   "source": [
    "df.info()"
   ]
  },
  {
   "cell_type": "code",
   "execution_count": 5,
   "metadata": {},
   "outputs": [
    {
     "data": {
      "text/html": [
       "<div>\n",
       "<style scoped>\n",
       "    .dataframe tbody tr th:only-of-type {\n",
       "        vertical-align: middle;\n",
       "    }\n",
       "\n",
       "    .dataframe tbody tr th {\n",
       "        vertical-align: top;\n",
       "    }\n",
       "\n",
       "    .dataframe thead th {\n",
       "        text-align: right;\n",
       "    }\n",
       "</style>\n",
       "<table border=\"1\" class=\"dataframe\">\n",
       "  <thead>\n",
       "    <tr style=\"text-align: right;\">\n",
       "      <th></th>\n",
       "      <th>Quantity</th>\n",
       "      <th>UnitPrice</th>\n",
       "    </tr>\n",
       "  </thead>\n",
       "  <tbody>\n",
       "    <tr>\n",
       "      <th>count</th>\n",
       "      <td>541909.000000</td>\n",
       "      <td>541909.000000</td>\n",
       "    </tr>\n",
       "    <tr>\n",
       "      <th>mean</th>\n",
       "      <td>9.552250</td>\n",
       "      <td>4.611114</td>\n",
       "    </tr>\n",
       "    <tr>\n",
       "      <th>std</th>\n",
       "      <td>218.081158</td>\n",
       "      <td>96.759853</td>\n",
       "    </tr>\n",
       "    <tr>\n",
       "      <th>min</th>\n",
       "      <td>-80995.000000</td>\n",
       "      <td>-11062.060000</td>\n",
       "    </tr>\n",
       "    <tr>\n",
       "      <th>25%</th>\n",
       "      <td>1.000000</td>\n",
       "      <td>1.250000</td>\n",
       "    </tr>\n",
       "    <tr>\n",
       "      <th>50%</th>\n",
       "      <td>3.000000</td>\n",
       "      <td>2.080000</td>\n",
       "    </tr>\n",
       "    <tr>\n",
       "      <th>75%</th>\n",
       "      <td>10.000000</td>\n",
       "      <td>4.130000</td>\n",
       "    </tr>\n",
       "    <tr>\n",
       "      <th>max</th>\n",
       "      <td>80995.000000</td>\n",
       "      <td>38970.000000</td>\n",
       "    </tr>\n",
       "  </tbody>\n",
       "</table>\n",
       "</div>"
      ],
      "text/plain": [
       "            Quantity      UnitPrice\n",
       "count  541909.000000  541909.000000\n",
       "mean        9.552250       4.611114\n",
       "std       218.081158      96.759853\n",
       "min    -80995.000000  -11062.060000\n",
       "25%         1.000000       1.250000\n",
       "50%         3.000000       2.080000\n",
       "75%        10.000000       4.130000\n",
       "max     80995.000000   38970.000000"
      ]
     },
     "execution_count": 5,
     "metadata": {},
     "output_type": "execute_result"
    }
   ],
   "source": [
    "df.describe()"
   ]
  },
  {
   "cell_type": "markdown",
   "metadata": {},
   "source": [
    "### 3. Missing Data"
   ]
  },
  {
   "cell_type": "code",
   "execution_count": 6,
   "metadata": {},
   "outputs": [
    {
     "data": {
      "text/plain": [
       "<matplotlib.axes._subplots.AxesSubplot at 0x10ac85278>"
      ]
     },
     "execution_count": 6,
     "metadata": {},
     "output_type": "execute_result"
    },
    {
     "data": {
      "image/png": "[encoded data removed]",
      "text/plain": [
       "<matplotlib.figure.Figure at 0x109f0f8d0>"
      ]
     },
     "metadata": {},
     "output_type": "display_data"
    }
   ],
   "source": [
    "plt.figure(figsize=(12,7))\n",
    "sns.set(font_scale=2)\n",
    "sns.heatmap(df.isnull(), yticklabels=False, cbar=False, cmap='viridis')"
   ]
  },
  {
   "cell_type": "code",
   "execution_count": 7,
   "metadata": {},
   "outputs": [
    {
     "data": {
      "text/plain": [
       "<matplotlib.axes._subplots.AxesSubplot at 0x10ad8e9e8>"
      ]
     },
     "execution_count": 7,
     "metadata": {},
     "output_type": "execute_result"
    },
    {
     "data": {
      "image/png": "[encoded data removed]",
      "text/plain": [
       "<matplotlib.figure.Figure at 0x10b630a58>"
      ]
     },
     "metadata": {},
     "output_type": "display_data"
    }
   ],
   "source": [
    "df = df[pd.notnull(df['CustomerID'])] \n",
    "plt.figure(figsize=(12,7))\n",
    "sns.set(font_scale=2)\n",
    "sns.heatmap(df.isnull(), yticklabels=False, cbar=False, cmap='viridis')"
   ]
  },
  {
   "cell_type": "code",
   "execution_count": 8,
   "metadata": {},
   "outputs": [
    {
     "data": {
      "text/html": [
       "<div>\n",
       "<style scoped>\n",
       "    .dataframe tbody tr th:only-of-type {\n",
       "        vertical-align: middle;\n",
       "    }\n",
       "\n",
       "    .dataframe tbody tr th {\n",
       "        vertical-align: top;\n",
       "    }\n",
       "\n",
       "    .dataframe thead th {\n",
       "        text-align: right;\n",
       "    }\n",
       "</style>\n",
       "<table border=\"1\" class=\"dataframe\">\n",
       "  <thead>\n",
       "    <tr style=\"text-align: right;\">\n",
       "      <th></th>\n",
       "      <th>InvoiceNo</th>\n",
       "      <th>StockCode</th>\n",
       "      <th>Description</th>\n",
       "      <th>Quantity</th>\n",
       "      <th>InvoiceDate</th>\n",
       "      <th>UnitPrice</th>\n",
       "      <th>CustomerID</th>\n",
       "      <th>Country</th>\n",
       "    </tr>\n",
       "  </thead>\n",
       "  <tbody>\n",
       "    <tr>\n",
       "      <th>0</th>\n",
       "      <td>536365</td>\n",
       "      <td>85123A</td>\n",
       "      <td>WHITE HANGING HEART T-LIGHT HOLDER</td>\n",
       "      <td>6</td>\n",
       "      <td>2010-12-01 08:26:00</td>\n",
       "      <td>2.55</td>\n",
       "      <td>17850</td>\n",
       "      <td>United Kingdom</td>\n",
       "    </tr>\n",
       "    <tr>\n",
       "      <th>1</th>\n",
       "      <td>536365</td>\n",
       "      <td>71053</td>\n",
       "      <td>WHITE METAL LANTERN</td>\n",
       "      <td>6</td>\n",
       "      <td>2010-12-01 08:26:00</td>\n",
       "      <td>3.39</td>\n",
       "      <td>17850</td>\n",
       "      <td>United Kingdom</td>\n",
       "    </tr>\n",
       "    <tr>\n",
       "      <th>2</th>\n",
       "      <td>536365</td>\n",
       "      <td>84406B</td>\n",
       "      <td>CREAM CUPID HEARTS COAT HANGER</td>\n",
       "      <td>8</td>\n",
       "      <td>2010-12-01 08:26:00</td>\n",
       "      <td>2.75</td>\n",
       "      <td>17850</td>\n",
       "      <td>United Kingdom</td>\n",
       "    </tr>\n",
       "    <tr>\n",
       "      <th>3</th>\n",
       "      <td>536365</td>\n",
       "      <td>84029G</td>\n",
       "      <td>KNITTED UNION FLAG HOT WATER BOTTLE</td>\n",
       "      <td>6</td>\n",
       "      <td>2010-12-01 08:26:00</td>\n",
       "      <td>3.39</td>\n",
       "      <td>17850</td>\n",
       "      <td>United Kingdom</td>\n",
       "    </tr>\n",
       "    <tr>\n",
       "      <th>4</th>\n",
       "      <td>536365</td>\n",
       "      <td>84029E</td>\n",
       "      <td>RED WOOLLY HOTTIE WHITE HEART.</td>\n",
       "      <td>6</td>\n",
       "      <td>2010-12-01 08:26:00</td>\n",
       "      <td>3.39</td>\n",
       "      <td>17850</td>\n",
       "      <td>United Kingdom</td>\n",
       "    </tr>\n",
       "  </tbody>\n",
       "</table>\n",
       "</div>"
      ],
      "text/plain": [
       "  InvoiceNo StockCode                          Description  Quantity  \\\n",
       "0    536365    85123A   WHITE HANGING HEART T-LIGHT HOLDER         6   \n",
       "1    536365     71053                  WHITE METAL LANTERN         6   \n",
       "2    536365    84406B       CREAM CUPID HEARTS COAT HANGER         8   \n",
       "3    536365    84029G  KNITTED UNION FLAG HOT WATER BOTTLE         6   \n",
       "4    536365    84029E       RED WOOLLY HOTTIE WHITE HEART.         6   \n",
       "\n",
       "          InvoiceDate  UnitPrice CustomerID         Country  \n",
       "0 2010-12-01 08:26:00       2.55      17850  United Kingdom  \n",
       "1 2010-12-01 08:26:00       3.39      17850  United Kingdom  \n",
       "2 2010-12-01 08:26:00       2.75      17850  United Kingdom  \n",
       "3 2010-12-01 08:26:00       3.39      17850  United Kingdom  \n",
       "4 2010-12-01 08:26:00       3.39      17850  United Kingdom  "
      ]
     },
     "execution_count": 8,
     "metadata": {},
     "output_type": "execute_result"
    }
   ],
   "source": [
    "df.head()"
   ]
  },
  {
   "cell_type": "markdown",
   "metadata": {},
   "source": [
    "### 4. Feature Engineering\n",
    "### 4.1 Weekday"
   ]
  },
  {
   "cell_type": "code",
   "execution_count": 9,
   "metadata": {
    "collapsed": true
   },
   "outputs": [],
   "source": [
    "df['weekday'] = pd.to_datetime(df['InvoiceDate'], errors='coerce').dt.dayofweek"
   ]
  },
  {
   "cell_type": "markdown",
   "metadata": {},
   "source": [
    "**Day to number mapping:**\n",
    "> * **Monday**: `0`\n",
    "* **Tuesday**: `1`\n",
    "* **Wednesday**: `2`\n",
    "* **Thursday**: `3`\n",
    "* **Friday**: `4`\n",
    "* **Saturday**: `5`\n",
    "* **Sunday**: `6`"
   ]
  },
  {
   "cell_type": "code",
   "execution_count": 10,
   "metadata": {},
   "outputs": [
    {
     "name": "stderr",
     "output_type": "stream",
     "text": [
      "/usr/local/lib/python3.6/site-packages/seaborn/categorical.py:1460: FutureWarning: remove_na is deprecated and is a private function. Do not use.\n",
      "  stat_data = remove_na(group_data)\n"
     ]
    },
    {
     "data": {
      "text/plain": [
       "<matplotlib.axes._subplots.AxesSubplot at 0x10b630400>"
      ]
     },
     "execution_count": 10,
     "metadata": {},
     "output_type": "execute_result"
    },
    {
     "data": {
      "image/png": "[encoded data removed]",
      "text/plain": [
       "<matplotlib.figure.Figure at 0x10b15d6a0>"
      ]
     },
     "metadata": {},
     "output_type": "display_data"
    }
   ],
   "source": [
    "plt.figure(figsize=(12,7))\n",
    "sns.set(font_scale=2)\n",
    "sns.countplot(x=df['weekday'], palette=\"Set3\")"
   ]
  },
  {
   "cell_type": "markdown",
   "metadata": {},
   "source": [
    "### 4.2 Total Price"
   ]
  },
  {
   "cell_type": "code",
   "execution_count": 11,
   "metadata": {
    "collapsed": true
   },
   "outputs": [],
   "source": [
    "df['Total Price'] = df['Quantity'] * df['UnitPrice'] "
   ]
  },
  {
   "cell_type": "code",
   "execution_count": 12,
   "metadata": {},
   "outputs": [
    {
     "data": {
      "text/plain": [
       "count    406829.000000\n",
       "mean         20.401854\n",
       "std         427.591718\n",
       "min     -168469.600000\n",
       "25%           4.200000\n",
       "50%          11.100000\n",
       "75%          19.500000\n",
       "max      168469.600000\n",
       "Name: Total Price, dtype: float64"
      ]
     },
     "execution_count": 12,
     "metadata": {},
     "output_type": "execute_result"
    }
   ],
   "source": [
    "df['Total Price'].describe()"
   ]
  },
  {
   "cell_type": "code",
   "execution_count": 13,
   "metadata": {},
   "outputs": [
    {
     "name": "stderr",
     "output_type": "stream",
     "text": [
      "/usr/local/lib/python3.6/site-packages/seaborn/categorical.py:1460: FutureWarning: remove_na is deprecated and is a private function. Do not use.\n",
      "  stat_data = remove_na(group_data)\n"
     ]
    },
    {
     "data": {
      "text/plain": [
       "<matplotlib.axes._subplots.AxesSubplot at 0x10b180208>"
      ]
     },
     "execution_count": 13,
     "metadata": {},
     "output_type": "execute_result"
    },
    {
     "data": {
      "image/png": "[encoded data removed]",
      "text/plain": [
       "<matplotlib.figure.Figure at 0x103537978>"
      ]
     },
     "metadata": {},
     "output_type": "display_data"
    }
   ],
   "source": [
    "plt.figure(figsize=(12,7))\n",
    "sns.set(font_scale=2)\n",
    "sns.barplot(x='weekday', y='Total Price', data=df, palette=\"Set3\")"
   ]
  },
  {
   "cell_type": "markdown",
   "metadata": {},
   "source": [
    "### 4.3 Build a customer table\n",
    "### 4.3.1 Invoice Count"
   ]
  },
  {
   "cell_type": "code",
   "execution_count": 14,
   "metadata": {},
   "outputs": [
    {
     "data": {
      "text/html": [
       "<div>\n",
       "<style scoped>\n",
       "    .dataframe tbody tr th:only-of-type {\n",
       "        vertical-align: middle;\n",
       "    }\n",
       "\n",
       "    .dataframe tbody tr th {\n",
       "        vertical-align: top;\n",
       "    }\n",
       "\n",
       "    .dataframe thead th {\n",
       "        text-align: right;\n",
       "    }\n",
       "</style>\n",
       "<table border=\"1\" class=\"dataframe\">\n",
       "  <thead>\n",
       "    <tr style=\"text-align: right;\">\n",
       "      <th></th>\n",
       "      <th>NumberOrders</th>\n",
       "    </tr>\n",
       "  </thead>\n",
       "  <tbody>\n",
       "    <tr>\n",
       "      <th>count</th>\n",
       "      <td>4372.000000</td>\n",
       "    </tr>\n",
       "    <tr>\n",
       "      <th>mean</th>\n",
       "      <td>93.053294</td>\n",
       "    </tr>\n",
       "    <tr>\n",
       "      <th>std</th>\n",
       "      <td>232.471608</td>\n",
       "    </tr>\n",
       "    <tr>\n",
       "      <th>min</th>\n",
       "      <td>1.000000</td>\n",
       "    </tr>\n",
       "    <tr>\n",
       "      <th>25%</th>\n",
       "      <td>17.000000</td>\n",
       "    </tr>\n",
       "    <tr>\n",
       "      <th>50%</th>\n",
       "      <td>42.000000</td>\n",
       "    </tr>\n",
       "    <tr>\n",
       "      <th>75%</th>\n",
       "      <td>102.000000</td>\n",
       "    </tr>\n",
       "    <tr>\n",
       "      <th>max</th>\n",
       "      <td>7983.000000</td>\n",
       "    </tr>\n",
       "  </tbody>\n",
       "</table>\n",
       "</div>"
      ],
      "text/plain": [
       "       NumberOrders\n",
       "count   4372.000000\n",
       "mean      93.053294\n",
       "std      232.471608\n",
       "min        1.000000\n",
       "25%       17.000000\n",
       "50%       42.000000\n",
       "75%      102.000000\n",
       "max     7983.000000"
      ]
     },
     "execution_count": 14,
     "metadata": {},
     "output_type": "execute_result"
    }
   ],
   "source": [
    "invoice_count = df.groupby(by=\"CustomerID\", as_index=False)['InvoiceNo'].count()\n",
    "invoice_count.columns = ['CustomerID', 'NumberOrders']\n",
    "invoice_count.describe()"
   ]
  },
  {
   "cell_type": "markdown",
   "metadata": {},
   "source": [
    "### 4.3.2 Total Amount Each Customer Has Spent"
   ]
  },
  {
   "cell_type": "code",
   "execution_count": 15,
   "metadata": {},
   "outputs": [
    {
     "data": {
      "text/html": [
       "<div>\n",
       "<style scoped>\n",
       "    .dataframe tbody tr th:only-of-type {\n",
       "        vertical-align: middle;\n",
       "    }\n",
       "\n",
       "    .dataframe tbody tr th {\n",
       "        vertical-align: top;\n",
       "    }\n",
       "\n",
       "    .dataframe thead th {\n",
       "        text-align: right;\n",
       "    }\n",
       "</style>\n",
       "<table border=\"1\" class=\"dataframe\">\n",
       "  <thead>\n",
       "    <tr style=\"text-align: right;\">\n",
       "      <th></th>\n",
       "      <th>total_spent</th>\n",
       "    </tr>\n",
       "  </thead>\n",
       "  <tbody>\n",
       "    <tr>\n",
       "      <th>count</th>\n",
       "      <td>4372.000000</td>\n",
       "    </tr>\n",
       "    <tr>\n",
       "      <th>mean</th>\n",
       "      <td>1898.459701</td>\n",
       "    </tr>\n",
       "    <tr>\n",
       "      <th>std</th>\n",
       "      <td>8219.345141</td>\n",
       "    </tr>\n",
       "    <tr>\n",
       "      <th>min</th>\n",
       "      <td>-4287.630000</td>\n",
       "    </tr>\n",
       "    <tr>\n",
       "      <th>25%</th>\n",
       "      <td>293.362500</td>\n",
       "    </tr>\n",
       "    <tr>\n",
       "      <th>50%</th>\n",
       "      <td>648.075000</td>\n",
       "    </tr>\n",
       "    <tr>\n",
       "      <th>75%</th>\n",
       "      <td>1611.725000</td>\n",
       "    </tr>\n",
       "    <tr>\n",
       "      <th>max</th>\n",
       "      <td>279489.020000</td>\n",
       "    </tr>\n",
       "  </tbody>\n",
       "</table>\n",
       "</div>"
      ],
      "text/plain": [
       "         total_spent\n",
       "count    4372.000000\n",
       "mean     1898.459701\n",
       "std      8219.345141\n",
       "min     -4287.630000\n",
       "25%       293.362500\n",
       "50%       648.075000\n",
       "75%      1611.725000\n",
       "max    279489.020000"
      ]
     },
     "execution_count": 15,
     "metadata": {},
     "output_type": "execute_result"
    }
   ],
   "source": [
    "total_spent = df.groupby(by=\"CustomerID\", as_index=False)['Total Price'].sum()\n",
    "total_spent.columns = ['CustomerID', 'total_spent']\n",
    "total_spent.describe()"
   ]
  },
  {
   "cell_type": "markdown",
   "metadata": {},
   "source": [
    "### 4.3.3 How many Items each user has bought"
   ]
  },
  {
   "cell_type": "code",
   "execution_count": 16,
   "metadata": {},
   "outputs": [
    {
     "data": {
      "text/html": [
       "<div>\n",
       "<style scoped>\n",
       "    .dataframe tbody tr th:only-of-type {\n",
       "        vertical-align: middle;\n",
       "    }\n",
       "\n",
       "    .dataframe tbody tr th {\n",
       "        vertical-align: top;\n",
       "    }\n",
       "\n",
       "    .dataframe thead th {\n",
       "        text-align: right;\n",
       "    }\n",
       "</style>\n",
       "<table border=\"1\" class=\"dataframe\">\n",
       "  <thead>\n",
       "    <tr style=\"text-align: right;\">\n",
       "      <th></th>\n",
       "      <th>NumberItems</th>\n",
       "    </tr>\n",
       "  </thead>\n",
       "  <tbody>\n",
       "    <tr>\n",
       "      <th>count</th>\n",
       "      <td>4372.000000</td>\n",
       "    </tr>\n",
       "    <tr>\n",
       "      <th>mean</th>\n",
       "      <td>1122.344007</td>\n",
       "    </tr>\n",
       "    <tr>\n",
       "      <th>std</th>\n",
       "      <td>4672.790720</td>\n",
       "    </tr>\n",
       "    <tr>\n",
       "      <th>min</th>\n",
       "      <td>-303.000000</td>\n",
       "    </tr>\n",
       "    <tr>\n",
       "      <th>25%</th>\n",
       "      <td>153.000000</td>\n",
       "    </tr>\n",
       "    <tr>\n",
       "      <th>50%</th>\n",
       "      <td>365.000000</td>\n",
       "    </tr>\n",
       "    <tr>\n",
       "      <th>75%</th>\n",
       "      <td>962.250000</td>\n",
       "    </tr>\n",
       "    <tr>\n",
       "      <th>max</th>\n",
       "      <td>196719.000000</td>\n",
       "    </tr>\n",
       "  </tbody>\n",
       "</table>\n",
       "</div>"
      ],
      "text/plain": [
       "         NumberItems\n",
       "count    4372.000000\n",
       "mean     1122.344007\n",
       "std      4672.790720\n",
       "min      -303.000000\n",
       "25%       153.000000\n",
       "50%       365.000000\n",
       "75%       962.250000\n",
       "max    196719.000000"
      ]
     },
     "execution_count": 16,
     "metadata": {},
     "output_type": "execute_result"
    }
   ],
   "source": [
    "total_items = df.groupby(by=\"CustomerID\", as_index=False)['Quantity'].sum()\n",
    "total_items.columns = ['CustomerID', 'NumberItems']\n",
    "total_items.describe()"
   ]
  },
  {
   "cell_type": "markdown",
   "metadata": {},
   "source": [
    "### 4.3.4 First Order and Number of Days as a Customer"
   ]
  },
  {
   "cell_type": "code",
   "execution_count": 17,
   "metadata": {},
   "outputs": [
    {
     "data": {
      "text/html": [
       "<div>\n",
       "<style scoped>\n",
       "    .dataframe tbody tr th:only-of-type {\n",
       "        vertical-align: middle;\n",
       "    }\n",
       "\n",
       "    .dataframe tbody tr th {\n",
       "        vertical-align: top;\n",
       "    }\n",
       "\n",
       "    .dataframe thead th {\n",
       "        text-align: right;\n",
       "    }\n",
       "</style>\n",
       "<table border=\"1\" class=\"dataframe\">\n",
       "  <thead>\n",
       "    <tr style=\"text-align: right;\">\n",
       "      <th></th>\n",
       "      <th>CustomerID</th>\n",
       "      <th>EarliestInvoice</th>\n",
       "      <th>days_as_customer</th>\n",
       "    </tr>\n",
       "  </thead>\n",
       "  <tbody>\n",
       "    <tr>\n",
       "      <th>0</th>\n",
       "      <td>12346</td>\n",
       "      <td>2011-01-18 10:01:00</td>\n",
       "      <td>326.0</td>\n",
       "    </tr>\n",
       "    <tr>\n",
       "      <th>1</th>\n",
       "      <td>12347</td>\n",
       "      <td>2010-12-07 14:57:00</td>\n",
       "      <td>367.0</td>\n",
       "    </tr>\n",
       "    <tr>\n",
       "      <th>2</th>\n",
       "      <td>12348</td>\n",
       "      <td>2010-12-16 19:09:00</td>\n",
       "      <td>358.0</td>\n",
       "    </tr>\n",
       "    <tr>\n",
       "      <th>3</th>\n",
       "      <td>12349</td>\n",
       "      <td>2011-11-21 09:51:00</td>\n",
       "      <td>19.0</td>\n",
       "    </tr>\n",
       "    <tr>\n",
       "      <th>4</th>\n",
       "      <td>12350</td>\n",
       "      <td>2011-02-02 16:01:00</td>\n",
       "      <td>310.0</td>\n",
       "    </tr>\n",
       "    <tr>\n",
       "      <th>5</th>\n",
       "      <td>12352</td>\n",
       "      <td>2011-02-16 12:33:00</td>\n",
       "      <td>297.0</td>\n",
       "    </tr>\n",
       "    <tr>\n",
       "      <th>6</th>\n",
       "      <td>12353</td>\n",
       "      <td>2011-05-19 17:47:00</td>\n",
       "      <td>204.0</td>\n",
       "    </tr>\n",
       "    <tr>\n",
       "      <th>7</th>\n",
       "      <td>12354</td>\n",
       "      <td>2011-04-21 13:11:00</td>\n",
       "      <td>232.0</td>\n",
       "    </tr>\n",
       "    <tr>\n",
       "      <th>8</th>\n",
       "      <td>12355</td>\n",
       "      <td>2011-05-09 13:49:00</td>\n",
       "      <td>214.0</td>\n",
       "    </tr>\n",
       "    <tr>\n",
       "      <th>9</th>\n",
       "      <td>12356</td>\n",
       "      <td>2011-01-18 09:50:00</td>\n",
       "      <td>326.0</td>\n",
       "    </tr>\n",
       "    <tr>\n",
       "      <th>10</th>\n",
       "      <td>12357</td>\n",
       "      <td>2011-11-06 16:07:00</td>\n",
       "      <td>33.0</td>\n",
       "    </tr>\n",
       "    <tr>\n",
       "      <th>11</th>\n",
       "      <td>12358</td>\n",
       "      <td>2011-07-12 10:04:00</td>\n",
       "      <td>151.0</td>\n",
       "    </tr>\n",
       "    <tr>\n",
       "      <th>12</th>\n",
       "      <td>12359</td>\n",
       "      <td>2011-01-12 12:43:00</td>\n",
       "      <td>332.0</td>\n",
       "    </tr>\n",
       "    <tr>\n",
       "      <th>13</th>\n",
       "      <td>12360</td>\n",
       "      <td>2011-05-23 09:43:00</td>\n",
       "      <td>201.0</td>\n",
       "    </tr>\n",
       "    <tr>\n",
       "      <th>14</th>\n",
       "      <td>12361</td>\n",
       "      <td>2011-02-25 13:51:00</td>\n",
       "      <td>287.0</td>\n",
       "    </tr>\n",
       "    <tr>\n",
       "      <th>15</th>\n",
       "      <td>12362</td>\n",
       "      <td>2011-02-17 10:30:00</td>\n",
       "      <td>296.0</td>\n",
       "    </tr>\n",
       "    <tr>\n",
       "      <th>16</th>\n",
       "      <td>12363</td>\n",
       "      <td>2011-04-11 13:29:00</td>\n",
       "      <td>242.0</td>\n",
       "    </tr>\n",
       "    <tr>\n",
       "      <th>17</th>\n",
       "      <td>12364</td>\n",
       "      <td>2011-08-19 15:24:00</td>\n",
       "      <td>112.0</td>\n",
       "    </tr>\n",
       "    <tr>\n",
       "      <th>18</th>\n",
       "      <td>12365</td>\n",
       "      <td>2011-02-21 13:51:00</td>\n",
       "      <td>291.0</td>\n",
       "    </tr>\n",
       "    <tr>\n",
       "      <th>19</th>\n",
       "      <td>12367</td>\n",
       "      <td>2011-12-05 16:48:00</td>\n",
       "      <td>4.0</td>\n",
       "    </tr>\n",
       "  </tbody>\n",
       "</table>\n",
       "</div>"
      ],
      "text/plain": [
       "   CustomerID     EarliestInvoice  days_as_customer\n",
       "0       12346 2011-01-18 10:01:00             326.0\n",
       "1       12347 2010-12-07 14:57:00             367.0\n",
       "2       12348 2010-12-16 19:09:00             358.0\n",
       "3       12349 2011-11-21 09:51:00              19.0\n",
       "4       12350 2011-02-02 16:01:00             310.0\n",
       "5       12352 2011-02-16 12:33:00             297.0\n",
       "6       12353 2011-05-19 17:47:00             204.0\n",
       "7       12354 2011-04-21 13:11:00             232.0\n",
       "8       12355 2011-05-09 13:49:00             214.0\n",
       "9       12356 2011-01-18 09:50:00             326.0\n",
       "10      12357 2011-11-06 16:07:00              33.0\n",
       "11      12358 2011-07-12 10:04:00             151.0\n",
       "12      12359 2011-01-12 12:43:00             332.0\n",
       "13      12360 2011-05-23 09:43:00             201.0\n",
       "14      12361 2011-02-25 13:51:00             287.0\n",
       "15      12362 2011-02-17 10:30:00             296.0\n",
       "16      12363 2011-04-11 13:29:00             242.0\n",
       "17      12364 2011-08-19 15:24:00             112.0\n",
       "18      12365 2011-02-21 13:51:00             291.0\n",
       "19      12367 2011-12-05 16:48:00               4.0"
      ]
     },
     "execution_count": 17,
     "metadata": {},
     "output_type": "execute_result"
    }
   ],
   "source": [
    "earliest_order = df.groupby(by=\"CustomerID\", as_index=False)['InvoiceDate'].min()\n",
    "earliest_order.columns = ['CustomerID', 'EarliestInvoice']\n",
    "earliest_order['now'] = pd.to_datetime((df['InvoiceDate']).max())\n",
    "earliest_order['days_as_customer'] = 1 + (earliest_order.now - earliest_order.EarliestInvoice).astype('timedelta64[D]')\n",
    "earliest_order.drop('now', axis=1, inplace=True)\n",
    "earliest_order.head(20)"
   ]
  },
  {
   "cell_type": "markdown",
   "metadata": {},
   "source": [
    "### 4.3.5 Last Order and Days Since Last Purchase"
   ]
  },
  {
   "cell_type": "code",
   "execution_count": 18,
   "metadata": {},
   "outputs": [
    {
     "data": {
      "text/html": [
       "<div>\n",
       "<style scoped>\n",
       "    .dataframe tbody tr th:only-of-type {\n",
       "        vertical-align: middle;\n",
       "    }\n",
       "\n",
       "    .dataframe tbody tr th {\n",
       "        vertical-align: top;\n",
       "    }\n",
       "\n",
       "    .dataframe thead th {\n",
       "        text-align: right;\n",
       "    }\n",
       "</style>\n",
       "<table border=\"1\" class=\"dataframe\">\n",
       "  <thead>\n",
       "    <tr style=\"text-align: right;\">\n",
       "      <th></th>\n",
       "      <th>CustomerID</th>\n",
       "      <th>last_purchase</th>\n",
       "      <th>days_since_purchase</th>\n",
       "    </tr>\n",
       "  </thead>\n",
       "  <tbody>\n",
       "    <tr>\n",
       "      <th>0</th>\n",
       "      <td>12346</td>\n",
       "      <td>2011-01-18 10:17:00</td>\n",
       "      <td>326.0</td>\n",
       "    </tr>\n",
       "    <tr>\n",
       "      <th>1</th>\n",
       "      <td>12347</td>\n",
       "      <td>2011-12-07 15:52:00</td>\n",
       "      <td>2.0</td>\n",
       "    </tr>\n",
       "    <tr>\n",
       "      <th>2</th>\n",
       "      <td>12348</td>\n",
       "      <td>2011-09-25 13:13:00</td>\n",
       "      <td>75.0</td>\n",
       "    </tr>\n",
       "    <tr>\n",
       "      <th>3</th>\n",
       "      <td>12349</td>\n",
       "      <td>2011-11-21 09:51:00</td>\n",
       "      <td>19.0</td>\n",
       "    </tr>\n",
       "    <tr>\n",
       "      <th>4</th>\n",
       "      <td>12350</td>\n",
       "      <td>2011-02-02 16:01:00</td>\n",
       "      <td>310.0</td>\n",
       "    </tr>\n",
       "    <tr>\n",
       "      <th>5</th>\n",
       "      <td>12352</td>\n",
       "      <td>2011-11-03 14:37:00</td>\n",
       "      <td>36.0</td>\n",
       "    </tr>\n",
       "    <tr>\n",
       "      <th>6</th>\n",
       "      <td>12353</td>\n",
       "      <td>2011-05-19 17:47:00</td>\n",
       "      <td>204.0</td>\n",
       "    </tr>\n",
       "    <tr>\n",
       "      <th>7</th>\n",
       "      <td>12354</td>\n",
       "      <td>2011-04-21 13:11:00</td>\n",
       "      <td>232.0</td>\n",
       "    </tr>\n",
       "    <tr>\n",
       "      <th>8</th>\n",
       "      <td>12355</td>\n",
       "      <td>2011-05-09 13:49:00</td>\n",
       "      <td>214.0</td>\n",
       "    </tr>\n",
       "    <tr>\n",
       "      <th>9</th>\n",
       "      <td>12356</td>\n",
       "      <td>2011-11-17 08:40:00</td>\n",
       "      <td>23.0</td>\n",
       "    </tr>\n",
       "    <tr>\n",
       "      <th>10</th>\n",
       "      <td>12357</td>\n",
       "      <td>2011-11-06 16:07:00</td>\n",
       "      <td>33.0</td>\n",
       "    </tr>\n",
       "    <tr>\n",
       "      <th>11</th>\n",
       "      <td>12358</td>\n",
       "      <td>2011-12-08 10:26:00</td>\n",
       "      <td>2.0</td>\n",
       "    </tr>\n",
       "    <tr>\n",
       "      <th>12</th>\n",
       "      <td>12359</td>\n",
       "      <td>2011-12-02 11:21:00</td>\n",
       "      <td>8.0</td>\n",
       "    </tr>\n",
       "    <tr>\n",
       "      <th>13</th>\n",
       "      <td>12360</td>\n",
       "      <td>2011-10-18 15:22:00</td>\n",
       "      <td>52.0</td>\n",
       "    </tr>\n",
       "    <tr>\n",
       "      <th>14</th>\n",
       "      <td>12361</td>\n",
       "      <td>2011-02-25 13:51:00</td>\n",
       "      <td>287.0</td>\n",
       "    </tr>\n",
       "    <tr>\n",
       "      <th>15</th>\n",
       "      <td>12362</td>\n",
       "      <td>2011-12-06 15:40:00</td>\n",
       "      <td>3.0</td>\n",
       "    </tr>\n",
       "    <tr>\n",
       "      <th>16</th>\n",
       "      <td>12363</td>\n",
       "      <td>2011-08-22 10:18:00</td>\n",
       "      <td>110.0</td>\n",
       "    </tr>\n",
       "    <tr>\n",
       "      <th>17</th>\n",
       "      <td>12364</td>\n",
       "      <td>2011-12-02 10:22:00</td>\n",
       "      <td>8.0</td>\n",
       "    </tr>\n",
       "    <tr>\n",
       "      <th>18</th>\n",
       "      <td>12365</td>\n",
       "      <td>2011-02-21 14:04:00</td>\n",
       "      <td>291.0</td>\n",
       "    </tr>\n",
       "    <tr>\n",
       "      <th>19</th>\n",
       "      <td>12367</td>\n",
       "      <td>2011-12-05 16:48:00</td>\n",
       "      <td>4.0</td>\n",
       "    </tr>\n",
       "  </tbody>\n",
       "</table>\n",
       "</div>"
      ],
      "text/plain": [
       "   CustomerID       last_purchase  days_since_purchase\n",
       "0       12346 2011-01-18 10:17:00                326.0\n",
       "1       12347 2011-12-07 15:52:00                  2.0\n",
       "2       12348 2011-09-25 13:13:00                 75.0\n",
       "3       12349 2011-11-21 09:51:00                 19.0\n",
       "4       12350 2011-02-02 16:01:00                310.0\n",
       "5       12352 2011-11-03 14:37:00                 36.0\n",
       "6       12353 2011-05-19 17:47:00                204.0\n",
       "7       12354 2011-04-21 13:11:00                232.0\n",
       "8       12355 2011-05-09 13:49:00                214.0\n",
       "9       12356 2011-11-17 08:40:00                 23.0\n",
       "10      12357 2011-11-06 16:07:00                 33.0\n",
       "11      12358 2011-12-08 10:26:00                  2.0\n",
       "12      12359 2011-12-02 11:21:00                  8.0\n",
       "13      12360 2011-10-18 15:22:00                 52.0\n",
       "14      12361 2011-02-25 13:51:00                287.0\n",
       "15      12362 2011-12-06 15:40:00                  3.0\n",
       "16      12363 2011-08-22 10:18:00                110.0\n",
       "17      12364 2011-12-02 10:22:00                  8.0\n",
       "18      12365 2011-02-21 14:04:00                291.0\n",
       "19      12367 2011-12-05 16:48:00                  4.0"
      ]
     },
     "execution_count": 18,
     "metadata": {},
     "output_type": "execute_result"
    }
   ],
   "source": [
    "last_order = df.groupby('CustomerID', as_index=False)['InvoiceDate'].max()\n",
    "last_order.columns = ['CustomerID', 'last_purchase']\n",
    "last_order['now'] = pd.to_datetime((df['InvoiceDate']).max())\n",
    "last_order['days_since_purchase'] = 1 + (last_order.now - last_order.last_purchase).astype('timedelta64[D]')\n",
    "last_order.drop('now', axis=1, inplace=True)\n",
    "last_order.head(20)"
   ]
  },
  {
   "cell_type": "markdown",
   "metadata": {},
   "source": [
    "### 4.3.6 Combine Columns into Customer Table"
   ]
  },
  {
   "cell_type": "code",
   "execution_count": 19,
   "metadata": {},
   "outputs": [
    {
     "data": {
      "text/html": [
       "<div>\n",
       "<style scoped>\n",
       "    .dataframe tbody tr th:only-of-type {\n",
       "        vertical-align: middle;\n",
       "    }\n",
       "\n",
       "    .dataframe tbody tr th {\n",
       "        vertical-align: top;\n",
       "    }\n",
       "\n",
       "    .dataframe thead th {\n",
       "        text-align: right;\n",
       "    }\n",
       "</style>\n",
       "<table border=\"1\" class=\"dataframe\">\n",
       "  <thead>\n",
       "    <tr style=\"text-align: right;\">\n",
       "      <th></th>\n",
       "      <th>CustomerID</th>\n",
       "      <th>total_spent</th>\n",
       "      <th>NumberOrders</th>\n",
       "      <th>EarliestInvoice</th>\n",
       "      <th>days_as_customer</th>\n",
       "      <th>last_purchase</th>\n",
       "      <th>days_since_purchase</th>\n",
       "      <th>NumberItems</th>\n",
       "    </tr>\n",
       "  </thead>\n",
       "  <tbody>\n",
       "    <tr>\n",
       "      <th>0</th>\n",
       "      <td>12346</td>\n",
       "      <td>0.00</td>\n",
       "      <td>2</td>\n",
       "      <td>2011-01-18 10:01:00</td>\n",
       "      <td>326.0</td>\n",
       "      <td>2011-01-18 10:17:00</td>\n",
       "      <td>326.0</td>\n",
       "      <td>0</td>\n",
       "    </tr>\n",
       "    <tr>\n",
       "      <th>1</th>\n",
       "      <td>12347</td>\n",
       "      <td>4310.00</td>\n",
       "      <td>182</td>\n",
       "      <td>2010-12-07 14:57:00</td>\n",
       "      <td>367.0</td>\n",
       "      <td>2011-12-07 15:52:00</td>\n",
       "      <td>2.0</td>\n",
       "      <td>2458</td>\n",
       "    </tr>\n",
       "    <tr>\n",
       "      <th>2</th>\n",
       "      <td>12348</td>\n",
       "      <td>1797.24</td>\n",
       "      <td>31</td>\n",
       "      <td>2010-12-16 19:09:00</td>\n",
       "      <td>358.0</td>\n",
       "      <td>2011-09-25 13:13:00</td>\n",
       "      <td>75.0</td>\n",
       "      <td>2341</td>\n",
       "    </tr>\n",
       "    <tr>\n",
       "      <th>3</th>\n",
       "      <td>12349</td>\n",
       "      <td>1757.55</td>\n",
       "      <td>73</td>\n",
       "      <td>2011-11-21 09:51:00</td>\n",
       "      <td>19.0</td>\n",
       "      <td>2011-11-21 09:51:00</td>\n",
       "      <td>19.0</td>\n",
       "      <td>631</td>\n",
       "    </tr>\n",
       "    <tr>\n",
       "      <th>4</th>\n",
       "      <td>12350</td>\n",
       "      <td>334.40</td>\n",
       "      <td>17</td>\n",
       "      <td>2011-02-02 16:01:00</td>\n",
       "      <td>310.0</td>\n",
       "      <td>2011-02-02 16:01:00</td>\n",
       "      <td>310.0</td>\n",
       "      <td>197</td>\n",
       "    </tr>\n",
       "    <tr>\n",
       "      <th>5</th>\n",
       "      <td>12352</td>\n",
       "      <td>1545.41</td>\n",
       "      <td>95</td>\n",
       "      <td>2011-02-16 12:33:00</td>\n",
       "      <td>297.0</td>\n",
       "      <td>2011-11-03 14:37:00</td>\n",
       "      <td>36.0</td>\n",
       "      <td>470</td>\n",
       "    </tr>\n",
       "    <tr>\n",
       "      <th>6</th>\n",
       "      <td>12353</td>\n",
       "      <td>89.00</td>\n",
       "      <td>4</td>\n",
       "      <td>2011-05-19 17:47:00</td>\n",
       "      <td>204.0</td>\n",
       "      <td>2011-05-19 17:47:00</td>\n",
       "      <td>204.0</td>\n",
       "      <td>20</td>\n",
       "    </tr>\n",
       "    <tr>\n",
       "      <th>7</th>\n",
       "      <td>12354</td>\n",
       "      <td>1079.40</td>\n",
       "      <td>58</td>\n",
       "      <td>2011-04-21 13:11:00</td>\n",
       "      <td>232.0</td>\n",
       "      <td>2011-04-21 13:11:00</td>\n",
       "      <td>232.0</td>\n",
       "      <td>530</td>\n",
       "    </tr>\n",
       "    <tr>\n",
       "      <th>8</th>\n",
       "      <td>12355</td>\n",
       "      <td>459.40</td>\n",
       "      <td>13</td>\n",
       "      <td>2011-05-09 13:49:00</td>\n",
       "      <td>214.0</td>\n",
       "      <td>2011-05-09 13:49:00</td>\n",
       "      <td>214.0</td>\n",
       "      <td>240</td>\n",
       "    </tr>\n",
       "    <tr>\n",
       "      <th>9</th>\n",
       "      <td>12356</td>\n",
       "      <td>2811.43</td>\n",
       "      <td>59</td>\n",
       "      <td>2011-01-18 09:50:00</td>\n",
       "      <td>326.0</td>\n",
       "      <td>2011-11-17 08:40:00</td>\n",
       "      <td>23.0</td>\n",
       "      <td>1591</td>\n",
       "    </tr>\n",
       "    <tr>\n",
       "      <th>10</th>\n",
       "      <td>12357</td>\n",
       "      <td>6207.67</td>\n",
       "      <td>131</td>\n",
       "      <td>2011-11-06 16:07:00</td>\n",
       "      <td>33.0</td>\n",
       "      <td>2011-11-06 16:07:00</td>\n",
       "      <td>33.0</td>\n",
       "      <td>2708</td>\n",
       "    </tr>\n",
       "    <tr>\n",
       "      <th>11</th>\n",
       "      <td>12358</td>\n",
       "      <td>1168.06</td>\n",
       "      <td>19</td>\n",
       "      <td>2011-07-12 10:04:00</td>\n",
       "      <td>151.0</td>\n",
       "      <td>2011-12-08 10:26:00</td>\n",
       "      <td>2.0</td>\n",
       "      <td>248</td>\n",
       "    </tr>\n",
       "    <tr>\n",
       "      <th>12</th>\n",
       "      <td>12359</td>\n",
       "      <td>6245.53</td>\n",
       "      <td>254</td>\n",
       "      <td>2011-01-12 12:43:00</td>\n",
       "      <td>332.0</td>\n",
       "      <td>2011-12-02 11:21:00</td>\n",
       "      <td>8.0</td>\n",
       "      <td>1612</td>\n",
       "    </tr>\n",
       "    <tr>\n",
       "      <th>13</th>\n",
       "      <td>12360</td>\n",
       "      <td>2662.06</td>\n",
       "      <td>129</td>\n",
       "      <td>2011-05-23 09:43:00</td>\n",
       "      <td>201.0</td>\n",
       "      <td>2011-10-18 15:22:00</td>\n",
       "      <td>52.0</td>\n",
       "      <td>1165</td>\n",
       "    </tr>\n",
       "    <tr>\n",
       "      <th>14</th>\n",
       "      <td>12361</td>\n",
       "      <td>189.90</td>\n",
       "      <td>10</td>\n",
       "      <td>2011-02-25 13:51:00</td>\n",
       "      <td>287.0</td>\n",
       "      <td>2011-02-25 13:51:00</td>\n",
       "      <td>287.0</td>\n",
       "      <td>91</td>\n",
       "    </tr>\n",
       "    <tr>\n",
       "      <th>15</th>\n",
       "      <td>12362</td>\n",
       "      <td>5154.58</td>\n",
       "      <td>274</td>\n",
       "      <td>2011-02-17 10:30:00</td>\n",
       "      <td>296.0</td>\n",
       "      <td>2011-12-06 15:40:00</td>\n",
       "      <td>3.0</td>\n",
       "      <td>2212</td>\n",
       "    </tr>\n",
       "    <tr>\n",
       "      <th>16</th>\n",
       "      <td>12363</td>\n",
       "      <td>552.00</td>\n",
       "      <td>23</td>\n",
       "      <td>2011-04-11 13:29:00</td>\n",
       "      <td>242.0</td>\n",
       "      <td>2011-08-22 10:18:00</td>\n",
       "      <td>110.0</td>\n",
       "      <td>408</td>\n",
       "    </tr>\n",
       "    <tr>\n",
       "      <th>17</th>\n",
       "      <td>12364</td>\n",
       "      <td>1313.10</td>\n",
       "      <td>85</td>\n",
       "      <td>2011-08-19 15:24:00</td>\n",
       "      <td>112.0</td>\n",
       "      <td>2011-12-02 10:22:00</td>\n",
       "      <td>8.0</td>\n",
       "      <td>1506</td>\n",
       "    </tr>\n",
       "    <tr>\n",
       "      <th>18</th>\n",
       "      <td>12365</td>\n",
       "      <td>320.69</td>\n",
       "      <td>23</td>\n",
       "      <td>2011-02-21 13:51:00</td>\n",
       "      <td>291.0</td>\n",
       "      <td>2011-02-21 14:04:00</td>\n",
       "      <td>291.0</td>\n",
       "      <td>173</td>\n",
       "    </tr>\n",
       "    <tr>\n",
       "      <th>19</th>\n",
       "      <td>12367</td>\n",
       "      <td>168.90</td>\n",
       "      <td>11</td>\n",
       "      <td>2011-12-05 16:48:00</td>\n",
       "      <td>4.0</td>\n",
       "      <td>2011-12-05 16:48:00</td>\n",
       "      <td>4.0</td>\n",
       "      <td>173</td>\n",
       "    </tr>\n",
       "  </tbody>\n",
       "</table>\n",
       "</div>"
      ],
      "text/plain": [
       "   CustomerID  total_spent  NumberOrders     EarliestInvoice  \\\n",
       "0       12346         0.00             2 2011-01-18 10:01:00   \n",
       "1       12347      4310.00           182 2010-12-07 14:57:00   \n",
       "2       12348      1797.24            31 2010-12-16 19:09:00   \n",
       "3       12349      1757.55            73 2011-11-21 09:51:00   \n",
       "4       12350       334.40            17 2011-02-02 16:01:00   \n",
       "5       12352      1545.41            95 2011-02-16 12:33:00   \n",
       "6       12353        89.00             4 2011-05-19 17:47:00   \n",
       "7       12354      1079.40            58 2011-04-21 13:11:00   \n",
       "8       12355       459.40            13 2011-05-09 13:49:00   \n",
       "9       12356      2811.43            59 2011-01-18 09:50:00   \n",
       "10      12357      6207.67           131 2011-11-06 16:07:00   \n",
       "11      12358      1168.06            19 2011-07-12 10:04:00   \n",
       "12      12359      6245.53           254 2011-01-12 12:43:00   \n",
       "13      12360      2662.06           129 2011-05-23 09:43:00   \n",
       "14      12361       189.90            10 2011-02-25 13:51:00   \n",
       "15      12362      5154.58           274 2011-02-17 10:30:00   \n",
       "16      12363       552.00            23 2011-04-11 13:29:00   \n",
       "17      12364      1313.10            85 2011-08-19 15:24:00   \n",
       "18      12365       320.69            23 2011-02-21 13:51:00   \n",
       "19      12367       168.90            11 2011-12-05 16:48:00   \n",
       "\n",
       "    days_as_customer       last_purchase  days_since_purchase  NumberItems  \n",
       "0              326.0 2011-01-18 10:17:00                326.0            0  \n",
       "1              367.0 2011-12-07 15:52:00                  2.0         2458  \n",
       "2              358.0 2011-09-25 13:13:00                 75.0         2341  \n",
       "3               19.0 2011-11-21 09:51:00                 19.0          631  \n",
       "4              310.0 2011-02-02 16:01:00                310.0          197  \n",
       "5              297.0 2011-11-03 14:37:00                 36.0          470  \n",
       "6              204.0 2011-05-19 17:47:00                204.0           20  \n",
       "7              232.0 2011-04-21 13:11:00                232.0          530  \n",
       "8              214.0 2011-05-09 13:49:00                214.0          240  \n",
       "9              326.0 2011-11-17 08:40:00                 23.0         1591  \n",
       "10              33.0 2011-11-06 16:07:00                 33.0         2708  \n",
       "11             151.0 2011-12-08 10:26:00                  2.0          248  \n",
       "12             332.0 2011-12-02 11:21:00                  8.0         1612  \n",
       "13             201.0 2011-10-18 15:22:00                 52.0         1165  \n",
       "14             287.0 2011-02-25 13:51:00                287.0           91  \n",
       "15             296.0 2011-12-06 15:40:00                  3.0         2212  \n",
       "16             242.0 2011-08-22 10:18:00                110.0          408  \n",
       "17             112.0 2011-12-02 10:22:00                  8.0         1506  \n",
       "18             291.0 2011-02-21 14:04:00                291.0          173  \n",
       "19               4.0 2011-12-05 16:48:00                  4.0          173  "
      ]
     },
     "execution_count": 19,
     "metadata": {},
     "output_type": "execute_result"
    }
   ],
   "source": [
    "import functools\n",
    "dfs = [total_spent, invoice_count, earliest_order, last_order, total_items]\n",
    "CustomerTable = functools.reduce(lambda left, right: pd.merge(left, right, on='CustomerID', how='outer'), dfs)\n",
    "CustomerTable.head(20)"
   ]
  },
  {
   "cell_type": "markdown",
   "metadata": {},
   "source": [
    "### 5.0 Statistical Analysis\n",
    "### 5.1 How many Customers?"
   ]
  },
  {
   "cell_type": "code",
   "execution_count": 20,
   "metadata": {},
   "outputs": [
    {
     "data": {
      "text/plain": [
       "4372"
      ]
     },
     "execution_count": 20,
     "metadata": {},
     "output_type": "execute_result"
    }
   ],
   "source": [
    "len(CustomerTable)"
   ]
  },
  {
   "cell_type": "markdown",
   "metadata": {},
   "source": [
    "### 5.2 Basic Statistics"
   ]
  },
  {
   "cell_type": "code",
   "execution_count": 21,
   "metadata": {},
   "outputs": [
    {
     "data": {
      "text/html": [
       "<div>\n",
       "<style scoped>\n",
       "    .dataframe tbody tr th:only-of-type {\n",
       "        vertical-align: middle;\n",
       "    }\n",
       "\n",
       "    .dataframe tbody tr th {\n",
       "        vertical-align: top;\n",
       "    }\n",
       "\n",
       "    .dataframe thead th {\n",
       "        text-align: right;\n",
       "    }\n",
       "</style>\n",
       "<table border=\"1\" class=\"dataframe\">\n",
       "  <thead>\n",
       "    <tr style=\"text-align: right;\">\n",
       "      <th></th>\n",
       "      <th>total_spent</th>\n",
       "      <th>NumberOrders</th>\n",
       "      <th>days_as_customer</th>\n",
       "      <th>days_since_purchase</th>\n",
       "      <th>NumberItems</th>\n",
       "    </tr>\n",
       "  </thead>\n",
       "  <tbody>\n",
       "    <tr>\n",
       "      <th>count</th>\n",
       "      <td>4372.000000</td>\n",
       "      <td>4372.000000</td>\n",
       "      <td>4372.000000</td>\n",
       "      <td>4372.000000</td>\n",
       "      <td>4372.000000</td>\n",
       "    </tr>\n",
       "    <tr>\n",
       "      <th>mean</th>\n",
       "      <td>1898.459701</td>\n",
       "      <td>93.053294</td>\n",
       "      <td>225.779048</td>\n",
       "      <td>92.047118</td>\n",
       "      <td>1122.344007</td>\n",
       "    </tr>\n",
       "    <tr>\n",
       "      <th>std</th>\n",
       "      <td>8219.345141</td>\n",
       "      <td>232.471608</td>\n",
       "      <td>118.412473</td>\n",
       "      <td>100.765435</td>\n",
       "      <td>4672.790720</td>\n",
       "    </tr>\n",
       "    <tr>\n",
       "      <th>min</th>\n",
       "      <td>-4287.630000</td>\n",
       "      <td>1.000000</td>\n",
       "      <td>1.000000</td>\n",
       "      <td>1.000000</td>\n",
       "      <td>-303.000000</td>\n",
       "    </tr>\n",
       "    <tr>\n",
       "      <th>25%</th>\n",
       "      <td>293.362500</td>\n",
       "      <td>17.000000</td>\n",
       "      <td>115.000000</td>\n",
       "      <td>17.000000</td>\n",
       "      <td>153.000000</td>\n",
       "    </tr>\n",
       "    <tr>\n",
       "      <th>50%</th>\n",
       "      <td>648.075000</td>\n",
       "      <td>42.000000</td>\n",
       "      <td>253.000000</td>\n",
       "      <td>50.000000</td>\n",
       "      <td>365.000000</td>\n",
       "    </tr>\n",
       "    <tr>\n",
       "      <th>75%</th>\n",
       "      <td>1611.725000</td>\n",
       "      <td>102.000000</td>\n",
       "      <td>332.000000</td>\n",
       "      <td>143.000000</td>\n",
       "      <td>962.250000</td>\n",
       "    </tr>\n",
       "    <tr>\n",
       "      <th>max</th>\n",
       "      <td>279489.020000</td>\n",
       "      <td>7983.000000</td>\n",
       "      <td>374.000000</td>\n",
       "      <td>374.000000</td>\n",
       "      <td>196719.000000</td>\n",
       "    </tr>\n",
       "  </tbody>\n",
       "</table>\n",
       "</div>"
      ],
      "text/plain": [
       "         total_spent  NumberOrders  days_as_customer  days_since_purchase  \\\n",
       "count    4372.000000   4372.000000       4372.000000          4372.000000   \n",
       "mean     1898.459701     93.053294        225.779048            92.047118   \n",
       "std      8219.345141    232.471608        118.412473           100.765435   \n",
       "min     -4287.630000      1.000000          1.000000             1.000000   \n",
       "25%       293.362500     17.000000        115.000000            17.000000   \n",
       "50%       648.075000     42.000000        253.000000            50.000000   \n",
       "75%      1611.725000    102.000000        332.000000           143.000000   \n",
       "max    279489.020000   7983.000000        374.000000           374.000000   \n",
       "\n",
       "         NumberItems  \n",
       "count    4372.000000  \n",
       "mean     1122.344007  \n",
       "std      4672.790720  \n",
       "min      -303.000000  \n",
       "25%       153.000000  \n",
       "50%       365.000000  \n",
       "75%       962.250000  \n",
       "max    196719.000000  "
      ]
     },
     "execution_count": 21,
     "metadata": {},
     "output_type": "execute_result"
    }
   ],
   "source": [
    "CustomerTable.describe()"
   ]
  },
  {
   "cell_type": "markdown",
   "metadata": {},
   "source": [
    "### 5.3 Find Big Spenders, Lots of Orders, Long-time customers, Dormant Customers\n",
    "This will then be utilized in a sales and marketing campaign! "
   ]
  },
  {
   "cell_type": "code",
   "execution_count": 22,
   "metadata": {},
   "outputs": [
    {
     "data": {
      "text/html": [
       "<div>\n",
       "<style scoped>\n",
       "    .dataframe tbody tr th:only-of-type {\n",
       "        vertical-align: middle;\n",
       "    }\n",
       "\n",
       "    .dataframe tbody tr th {\n",
       "        vertical-align: top;\n",
       "    }\n",
       "\n",
       "    .dataframe thead th {\n",
       "        text-align: right;\n",
       "    }\n",
       "</style>\n",
       "<table border=\"1\" class=\"dataframe\">\n",
       "  <thead>\n",
       "    <tr style=\"text-align: right;\">\n",
       "      <th></th>\n",
       "      <th>CustomerID</th>\n",
       "      <th>total_spent</th>\n",
       "      <th>NumberOrders</th>\n",
       "      <th>EarliestInvoice</th>\n",
       "      <th>days_as_customer</th>\n",
       "      <th>last_purchase</th>\n",
       "      <th>days_since_purchase</th>\n",
       "      <th>NumberItems</th>\n",
       "      <th>BigSpender</th>\n",
       "      <th>ManyOrders</th>\n",
       "      <th>LoyalCustomer</th>\n",
       "      <th>DormantCustomer</th>\n",
       "      <th>OrderFrequency</th>\n",
       "    </tr>\n",
       "  </thead>\n",
       "  <tbody>\n",
       "    <tr>\n",
       "      <th>0</th>\n",
       "      <td>12346</td>\n",
       "      <td>0.00</td>\n",
       "      <td>2</td>\n",
       "      <td>2011-01-18 10:01:00</td>\n",
       "      <td>326.0</td>\n",
       "      <td>2011-01-18 10:17:00</td>\n",
       "      <td>326.0</td>\n",
       "      <td>0</td>\n",
       "      <td>No</td>\n",
       "      <td>No</td>\n",
       "      <td>No</td>\n",
       "      <td>1</td>\n",
       "      <td>0.006135</td>\n",
       "    </tr>\n",
       "    <tr>\n",
       "      <th>1</th>\n",
       "      <td>12347</td>\n",
       "      <td>4310.00</td>\n",
       "      <td>182</td>\n",
       "      <td>2010-12-07 14:57:00</td>\n",
       "      <td>367.0</td>\n",
       "      <td>2011-12-07 15:52:00</td>\n",
       "      <td>2.0</td>\n",
       "      <td>2458</td>\n",
       "      <td>Yes</td>\n",
       "      <td>Yes</td>\n",
       "      <td>Yes</td>\n",
       "      <td>0</td>\n",
       "      <td>0.495913</td>\n",
       "    </tr>\n",
       "    <tr>\n",
       "      <th>2</th>\n",
       "      <td>12348</td>\n",
       "      <td>1797.24</td>\n",
       "      <td>31</td>\n",
       "      <td>2010-12-16 19:09:00</td>\n",
       "      <td>358.0</td>\n",
       "      <td>2011-09-25 13:13:00</td>\n",
       "      <td>75.0</td>\n",
       "      <td>2341</td>\n",
       "      <td>Yes</td>\n",
       "      <td>No</td>\n",
       "      <td>Yes</td>\n",
       "      <td>0</td>\n",
       "      <td>0.086592</td>\n",
       "    </tr>\n",
       "    <tr>\n",
       "      <th>3</th>\n",
       "      <td>12349</td>\n",
       "      <td>1757.55</td>\n",
       "      <td>73</td>\n",
       "      <td>2011-11-21 09:51:00</td>\n",
       "      <td>19.0</td>\n",
       "      <td>2011-11-21 09:51:00</td>\n",
       "      <td>19.0</td>\n",
       "      <td>631</td>\n",
       "      <td>Yes</td>\n",
       "      <td>No</td>\n",
       "      <td>No</td>\n",
       "      <td>0</td>\n",
       "      <td>3.842105</td>\n",
       "    </tr>\n",
       "    <tr>\n",
       "      <th>4</th>\n",
       "      <td>12350</td>\n",
       "      <td>334.40</td>\n",
       "      <td>17</td>\n",
       "      <td>2011-02-02 16:01:00</td>\n",
       "      <td>310.0</td>\n",
       "      <td>2011-02-02 16:01:00</td>\n",
       "      <td>310.0</td>\n",
       "      <td>197</td>\n",
       "      <td>No</td>\n",
       "      <td>No</td>\n",
       "      <td>No</td>\n",
       "      <td>1</td>\n",
       "      <td>0.054839</td>\n",
       "    </tr>\n",
       "  </tbody>\n",
       "</table>\n",
       "</div>"
      ],
      "text/plain": [
       "  CustomerID  total_spent  NumberOrders     EarliestInvoice  days_as_customer  \\\n",
       "0      12346         0.00             2 2011-01-18 10:01:00             326.0   \n",
       "1      12347      4310.00           182 2010-12-07 14:57:00             367.0   \n",
       "2      12348      1797.24            31 2010-12-16 19:09:00             358.0   \n",
       "3      12349      1757.55            73 2011-11-21 09:51:00              19.0   \n",
       "4      12350       334.40            17 2011-02-02 16:01:00             310.0   \n",
       "\n",
       "        last_purchase  days_since_purchase  NumberItems BigSpender ManyOrders  \\\n",
       "0 2011-01-18 10:17:00                326.0            0         No         No   \n",
       "1 2011-12-07 15:52:00                  2.0         2458        Yes        Yes   \n",
       "2 2011-09-25 13:13:00                 75.0         2341        Yes         No   \n",
       "3 2011-11-21 09:51:00                 19.0          631        Yes         No   \n",
       "4 2011-02-02 16:01:00                310.0          197         No         No   \n",
       "\n",
       "  LoyalCustomer  DormantCustomer  OrderFrequency  \n",
       "0            No                1        0.006135  \n",
       "1           Yes                0        0.495913  \n",
       "2           Yes                0        0.086592  \n",
       "3            No                0        3.842105  \n",
       "4            No                1        0.054839  "
      ]
     },
     "execution_count": 22,
     "metadata": {},
     "output_type": "execute_result"
    }
   ],
   "source": [
    "def big_spender(row):\n",
    "    if row['total_spent'] >= 1611.725:          # threshold based on 75th percentile\n",
    "        return 'Yes'\n",
    "    else:\n",
    "        return 'No'\n",
    "    \n",
    "def many_orders(row):\n",
    "    if row['NumberOrders'] >= 102:              # threshold based on 75th percentile\n",
    "        return 'Yes'\n",
    "    else:\n",
    "        return 'No'\n",
    "    \n",
    "def loyal_customer(row):\n",
    "    if row['days_as_customer'] >= 332:          # threshold based on 75th percentile\n",
    "        return 'Yes'\n",
    "    else: \n",
    "        return 'No'\n",
    "    \n",
    "def dormant_customer(row):\n",
    "    if row['days_since_purchase'] >= 115:       # threshold based on 25th percentile\n",
    "        return 1\n",
    "    else:\n",
    "        return 0\n",
    "    \n",
    "CustomerTable['BigSpender'] = CustomerTable.apply(big_spender, axis=1)\n",
    "CustomerTable['ManyOrders'] = CustomerTable.apply(many_orders, axis=1)\n",
    "CustomerTable['LoyalCustomer'] = CustomerTable.apply(loyal_customer, axis=1)\n",
    "CustomerTable['DormantCustomer'] = CustomerTable.apply(dormant_customer, axis=1)\n",
    "\n",
    "CustomerTable['OrderFrequency'] = CustomerTable['NumberOrders']/CustomerTable['days_as_customer']\n",
    "\n",
    "CustomerTable.head()    "
   ]
  },
  {
   "cell_type": "markdown",
   "metadata": {},
   "source": [
    "### 5.4 Look at distributions and relationships"
   ]
  },
  {
   "cell_type": "code",
   "execution_count": 23,
   "metadata": {},
   "outputs": [
    {
     "data": {
      "text/plain": [
       "<seaborn.axisgrid.PairGrid at 0x101939cc0>"
      ]
     },
     "execution_count": 23,
     "metadata": {},
     "output_type": "execute_result"
    },
    {
     "data": {
      "image/png": "[encoded data removed]",
      "text/plain": [
       "<matplotlib.figure.Figure at 0x102ddd320>"
      ]
     },
     "metadata": {},
     "output_type": "display_data"
    }
   ],
   "source": [
    "sns.pairplot(CustomerTable, vars=['total_spent', 'NumberOrders', 'days_as_customer', \n",
    "                                 'days_since_purchase', 'NumberItems', 'OrderFrequency'])"
   ]
  },
  {
   "cell_type": "code",
   "execution_count": 24,
   "metadata": {},
   "outputs": [
    {
     "data": {
      "text/html": [
       "<div>\n",
       "<style scoped>\n",
       "    .dataframe tbody tr th:only-of-type {\n",
       "        vertical-align: middle;\n",
       "    }\n",
       "\n",
       "    .dataframe tbody tr th {\n",
       "        vertical-align: top;\n",
       "    }\n",
       "\n",
       "    .dataframe thead th {\n",
       "        text-align: right;\n",
       "    }\n",
       "</style>\n",
       "<table border=\"1\" class=\"dataframe\">\n",
       "  <thead>\n",
       "    <tr style=\"text-align: right;\">\n",
       "      <th></th>\n",
       "      <th>CustomerID</th>\n",
       "      <th>total_spent</th>\n",
       "      <th>NumberOrders</th>\n",
       "      <th>EarliestInvoice</th>\n",
       "      <th>days_as_customer</th>\n",
       "      <th>last_purchase</th>\n",
       "      <th>days_since_purchase</th>\n",
       "      <th>NumberItems</th>\n",
       "      <th>BigSpender</th>\n",
       "      <th>ManyOrders</th>\n",
       "      <th>LoyalCustomer</th>\n",
       "      <th>DormantCustomer</th>\n",
       "      <th>OrderFrequency</th>\n",
       "    </tr>\n",
       "  </thead>\n",
       "  <tbody>\n",
       "    <tr>\n",
       "      <th>0</th>\n",
       "      <td>12346</td>\n",
       "      <td>0.00</td>\n",
       "      <td>2</td>\n",
       "      <td>2011-01-18 10:01:00</td>\n",
       "      <td>326.0</td>\n",
       "      <td>2011-01-18 10:17:00</td>\n",
       "      <td>326.0</td>\n",
       "      <td>0</td>\n",
       "      <td>No</td>\n",
       "      <td>No</td>\n",
       "      <td>No</td>\n",
       "      <td>1</td>\n",
       "      <td>0.006135</td>\n",
       "    </tr>\n",
       "    <tr>\n",
       "      <th>1</th>\n",
       "      <td>12347</td>\n",
       "      <td>4310.00</td>\n",
       "      <td>182</td>\n",
       "      <td>2010-12-07 14:57:00</td>\n",
       "      <td>367.0</td>\n",
       "      <td>2011-12-07 15:52:00</td>\n",
       "      <td>2.0</td>\n",
       "      <td>2458</td>\n",
       "      <td>Yes</td>\n",
       "      <td>Yes</td>\n",
       "      <td>Yes</td>\n",
       "      <td>0</td>\n",
       "      <td>0.495913</td>\n",
       "    </tr>\n",
       "    <tr>\n",
       "      <th>2</th>\n",
       "      <td>12348</td>\n",
       "      <td>1797.24</td>\n",
       "      <td>31</td>\n",
       "      <td>2010-12-16 19:09:00</td>\n",
       "      <td>358.0</td>\n",
       "      <td>2011-09-25 13:13:00</td>\n",
       "      <td>75.0</td>\n",
       "      <td>2341</td>\n",
       "      <td>Yes</td>\n",
       "      <td>No</td>\n",
       "      <td>Yes</td>\n",
       "      <td>0</td>\n",
       "      <td>0.086592</td>\n",
       "    </tr>\n",
       "    <tr>\n",
       "      <th>3</th>\n",
       "      <td>12349</td>\n",
       "      <td>1757.55</td>\n",
       "      <td>73</td>\n",
       "      <td>2011-11-21 09:51:00</td>\n",
       "      <td>19.0</td>\n",
       "      <td>2011-11-21 09:51:00</td>\n",
       "      <td>19.0</td>\n",
       "      <td>631</td>\n",
       "      <td>Yes</td>\n",
       "      <td>No</td>\n",
       "      <td>No</td>\n",
       "      <td>0</td>\n",
       "      <td>3.842105</td>\n",
       "    </tr>\n",
       "    <tr>\n",
       "      <th>4</th>\n",
       "      <td>12350</td>\n",
       "      <td>334.40</td>\n",
       "      <td>17</td>\n",
       "      <td>2011-02-02 16:01:00</td>\n",
       "      <td>310.0</td>\n",
       "      <td>2011-02-02 16:01:00</td>\n",
       "      <td>310.0</td>\n",
       "      <td>197</td>\n",
       "      <td>No</td>\n",
       "      <td>No</td>\n",
       "      <td>No</td>\n",
       "      <td>1</td>\n",
       "      <td>0.054839</td>\n",
       "    </tr>\n",
       "  </tbody>\n",
       "</table>\n",
       "</div>"
      ],
      "text/plain": [
       "  CustomerID  total_spent  NumberOrders     EarliestInvoice  days_as_customer  \\\n",
       "0      12346         0.00             2 2011-01-18 10:01:00             326.0   \n",
       "1      12347      4310.00           182 2010-12-07 14:57:00             367.0   \n",
       "2      12348      1797.24            31 2010-12-16 19:09:00             358.0   \n",
       "3      12349      1757.55            73 2011-11-21 09:51:00              19.0   \n",
       "4      12350       334.40            17 2011-02-02 16:01:00             310.0   \n",
       "\n",
       "        last_purchase  days_since_purchase  NumberItems BigSpender ManyOrders  \\\n",
       "0 2011-01-18 10:17:00                326.0            0         No         No   \n",
       "1 2011-12-07 15:52:00                  2.0         2458        Yes        Yes   \n",
       "2 2011-09-25 13:13:00                 75.0         2341        Yes         No   \n",
       "3 2011-11-21 09:51:00                 19.0          631        Yes         No   \n",
       "4 2011-02-02 16:01:00                310.0          197         No         No   \n",
       "\n",
       "  LoyalCustomer  DormantCustomer  OrderFrequency  \n",
       "0            No                1        0.006135  \n",
       "1           Yes                0        0.495913  \n",
       "2           Yes                0        0.086592  \n",
       "3            No                0        3.842105  \n",
       "4            No                1        0.054839  "
      ]
     },
     "execution_count": 24,
     "metadata": {},
     "output_type": "execute_result"
    }
   ],
   "source": [
    "CustomerTable.head()"
   ]
  },
  {
   "cell_type": "code",
   "execution_count": 25,
   "metadata": {},
   "outputs": [
    {
     "data": {
      "text/html": [
       "<div>\n",
       "<style scoped>\n",
       "    .dataframe tbody tr th:only-of-type {\n",
       "        vertical-align: middle;\n",
       "    }\n",
       "\n",
       "    .dataframe tbody tr th {\n",
       "        vertical-align: top;\n",
       "    }\n",
       "\n",
       "    .dataframe thead th {\n",
       "        text-align: right;\n",
       "    }\n",
       "</style>\n",
       "<table border=\"1\" class=\"dataframe\">\n",
       "  <thead>\n",
       "    <tr style=\"text-align: right;\">\n",
       "      <th></th>\n",
       "      <th>total_spent</th>\n",
       "      <th>NumberOrders</th>\n",
       "      <th>days_as_customer</th>\n",
       "      <th>days_since_purchase</th>\n",
       "      <th>NumberItems</th>\n",
       "      <th>DormantCustomer</th>\n",
       "      <th>OrderFrequency</th>\n",
       "    </tr>\n",
       "  </thead>\n",
       "  <tbody>\n",
       "    <tr>\n",
       "      <th>count</th>\n",
       "      <td>4372.000000</td>\n",
       "      <td>4372.000000</td>\n",
       "      <td>4372.000000</td>\n",
       "      <td>4372.000000</td>\n",
       "      <td>4372.000000</td>\n",
       "      <td>4372.000000</td>\n",
       "      <td>4372.000000</td>\n",
       "    </tr>\n",
       "    <tr>\n",
       "      <th>mean</th>\n",
       "      <td>1898.459701</td>\n",
       "      <td>93.053294</td>\n",
       "      <td>225.779048</td>\n",
       "      <td>92.047118</td>\n",
       "      <td>1122.344007</td>\n",
       "      <td>0.289799</td>\n",
       "      <td>0.613840</td>\n",
       "    </tr>\n",
       "    <tr>\n",
       "      <th>std</th>\n",
       "      <td>8219.345141</td>\n",
       "      <td>232.471608</td>\n",
       "      <td>118.412473</td>\n",
       "      <td>100.765435</td>\n",
       "      <td>4672.790720</td>\n",
       "      <td>0.453721</td>\n",
       "      <td>1.803834</td>\n",
       "    </tr>\n",
       "    <tr>\n",
       "      <th>min</th>\n",
       "      <td>-4287.630000</td>\n",
       "      <td>1.000000</td>\n",
       "      <td>1.000000</td>\n",
       "      <td>1.000000</td>\n",
       "      <td>-303.000000</td>\n",
       "      <td>0.000000</td>\n",
       "      <td>0.002674</td>\n",
       "    </tr>\n",
       "    <tr>\n",
       "      <th>25%</th>\n",
       "      <td>293.362500</td>\n",
       "      <td>17.000000</td>\n",
       "      <td>115.000000</td>\n",
       "      <td>17.000000</td>\n",
       "      <td>153.000000</td>\n",
       "      <td>0.000000</td>\n",
       "      <td>0.096602</td>\n",
       "    </tr>\n",
       "    <tr>\n",
       "      <th>50%</th>\n",
       "      <td>648.075000</td>\n",
       "      <td>42.000000</td>\n",
       "      <td>253.000000</td>\n",
       "      <td>50.000000</td>\n",
       "      <td>365.000000</td>\n",
       "      <td>0.000000</td>\n",
       "      <td>0.254717</td>\n",
       "    </tr>\n",
       "    <tr>\n",
       "      <th>75%</th>\n",
       "      <td>1611.725000</td>\n",
       "      <td>102.000000</td>\n",
       "      <td>332.000000</td>\n",
       "      <td>143.000000</td>\n",
       "      <td>962.250000</td>\n",
       "      <td>1.000000</td>\n",
       "      <td>0.583333</td>\n",
       "    </tr>\n",
       "    <tr>\n",
       "      <th>max</th>\n",
       "      <td>279489.020000</td>\n",
       "      <td>7983.000000</td>\n",
       "      <td>374.000000</td>\n",
       "      <td>374.000000</td>\n",
       "      <td>196719.000000</td>\n",
       "      <td>1.000000</td>\n",
       "      <td>50.274510</td>\n",
       "    </tr>\n",
       "  </tbody>\n",
       "</table>\n",
       "</div>"
      ],
      "text/plain": [
       "         total_spent  NumberOrders  days_as_customer  days_since_purchase  \\\n",
       "count    4372.000000   4372.000000       4372.000000          4372.000000   \n",
       "mean     1898.459701     93.053294        225.779048            92.047118   \n",
       "std      8219.345141    232.471608        118.412473           100.765435   \n",
       "min     -4287.630000      1.000000          1.000000             1.000000   \n",
       "25%       293.362500     17.000000        115.000000            17.000000   \n",
       "50%       648.075000     42.000000        253.000000            50.000000   \n",
       "75%      1611.725000    102.000000        332.000000           143.000000   \n",
       "max    279489.020000   7983.000000        374.000000           374.000000   \n",
       "\n",
       "         NumberItems  DormantCustomer  OrderFrequency  \n",
       "count    4372.000000      4372.000000     4372.000000  \n",
       "mean     1122.344007         0.289799        0.613840  \n",
       "std      4672.790720         0.453721        1.803834  \n",
       "min      -303.000000         0.000000        0.002674  \n",
       "25%       153.000000         0.000000        0.096602  \n",
       "50%       365.000000         0.000000        0.254717  \n",
       "75%       962.250000         1.000000        0.583333  \n",
       "max    196719.000000         1.000000       50.274510  "
      ]
     },
     "execution_count": 25,
     "metadata": {},
     "output_type": "execute_result"
    }
   ],
   "source": [
    "CustomerTable.describe()"
   ]
  },
  {
   "cell_type": "markdown",
   "metadata": {},
   "source": [
    "https://www.kaggle.com/carrie1/customer-insights\n",
    "Leaving off: need to find time between purchases for each customer, get 75th percentile\n",
    "* Create data of past past 10 purchases for all customers, fill in average for those not seen yet\n",
    "* also include and days and customer potentially, total spent, potentially at some point consider order freq"
   ]
  },
  {
   "cell_type": "markdown",
   "metadata": {},
   "source": [
    "# Look at Relationships based on dormancy\n",
    "## Total number of dormant customers"
   ]
  },
  {
   "cell_type": "code",
   "execution_count": 48,
   "metadata": {},
   "outputs": [
    {
     "name": "stderr",
     "output_type": "stream",
     "text": [
      "/usr/local/lib/python3.6/site-packages/seaborn/categorical.py:1460: FutureWarning: remove_na is deprecated and is a private function. Do not use.\n",
      "  stat_data = remove_na(group_data)\n"
     ]
    },
    {
     "data": {
      "text/plain": [
       "<matplotlib.axes._subplots.AxesSubplot at 0x10a598ba8>"
      ]
     },
     "execution_count": 48,
     "metadata": {},
     "output_type": "execute_result"
    },
    {
     "data": {
      "image/png": "[encoded data removed]",
      "text/plain": [
       "<matplotlib.figure.Figure at 0x110d5cf28>"
      ]
     },
     "metadata": {},
     "output_type": "display_data"
    }
   ],
   "source": [
    "sns.set_style('whitegrid')\n",
    "plt.figure(figsize=(12,7))\n",
    "sns.countplot(x='DormantCustomer', data=CustomerTable)"
   ]
  },
  {
   "cell_type": "code",
   "execution_count": 49,
   "metadata": {},
   "outputs": [
    {
     "name": "stderr",
     "output_type": "stream",
     "text": [
      "/usr/local/lib/python3.6/site-packages/seaborn/categorical.py:1460: FutureWarning: remove_na is deprecated and is a private function. Do not use.\n",
      "  stat_data = remove_na(group_data)\n"
     ]
    },
    {
     "data": {
      "text/plain": [
       "<matplotlib.axes._subplots.AxesSubplot at 0x110fc52e8>"
      ]
     },
     "execution_count": 49,
     "metadata": {},
     "output_type": "execute_result"
    },
    {
     "data": {
      "image/png": "[encoded data removed]",
      "text/plain": [
       "<matplotlib.figure.Figure at 0x110e6ee48>"
      ]
     },
     "metadata": {},
     "output_type": "display_data"
    }
   ],
   "source": [
    "# filtering out the customers who are new\n",
    "filteredTable = CustomerTable[CustomerTable['days_as_customer'] > 115]\n",
    "filteredTable = filteredTable[[\"total_spent\", \"NumberOrders\",'days_as_customer','NumberItems',\n",
    "                    'OrderFrequency','CustomerID', 'DormantCustomer']]\n",
    "plt.figure(figsize=(12,7))\n",
    "sns.countplot(x='DormantCustomer', data=filteredTable)"
   ]
  },
  {
   "cell_type": "markdown",
   "metadata": {},
   "source": [
    "## Dormancy vs. Total Spent"
   ]
  },
  {
   "cell_type": "code",
   "execution_count": 27,
   "metadata": {},
   "outputs": [
    {
     "name": "stderr",
     "output_type": "stream",
     "text": [
      "/usr/local/lib/python3.6/site-packages/seaborn/categorical.py:462: FutureWarning: remove_na is deprecated and is a private function. Do not use.\n",
      "  box_data = remove_na(group_data)\n"
     ]
    },
    {
     "data": {
      "text/plain": [
       "<matplotlib.axes._subplots.AxesSubplot at 0x10b92ac18>"
      ]
     },
     "execution_count": 27,
     "metadata": {},
     "output_type": "execute_result"
    },
    {
     "data": {
      "image/png": "[encoded data removed]",
      "text/plain": [
       "<matplotlib.figure.Figure at 0x10b9bb0f0>"
      ]
     },
     "metadata": {},
     "output_type": "display_data"
    }
   ],
   "source": [
    "# filtering out the customers who are new\n",
    "filteredTable = CustomerTable[CustomerTable['days_as_customer'] > 115]\n",
    "filteredTable = filteredTable[[\"total_spent\", \"NumberOrders\",'days_as_customer','NumberItems',\n",
    "                    'OrderFrequency','CustomerID', 'DormantCustomer']]\n",
    "plt.figure(figsize=(12,7))\n",
    "sns.boxplot(x=\"DormantCustomer\", y=\"total_spent\", data=filteredTable, palette='Set1', showfliers=False)"
   ]
  },
  {
   "cell_type": "markdown",
   "metadata": {},
   "source": [
    "## Dormancy vs. Days as Customer"
   ]
  },
  {
   "cell_type": "code",
   "execution_count": 28,
   "metadata": {},
   "outputs": [
    {
     "name": "stderr",
     "output_type": "stream",
     "text": [
      "/usr/local/lib/python3.6/site-packages/seaborn/categorical.py:462: FutureWarning: remove_na is deprecated and is a private function. Do not use.\n",
      "  box_data = remove_na(group_data)\n"
     ]
    },
    {
     "data": {
      "text/plain": [
       "<matplotlib.axes._subplots.AxesSubplot at 0x1022dfda0>"
      ]
     },
     "execution_count": 28,
     "metadata": {},
     "output_type": "execute_result"
    },
    {
     "data": {
      "image/png": "[encoded data removed]",
      "text/plain": [
       "<matplotlib.figure.Figure at 0x10b6e33c8>"
      ]
     },
     "metadata": {},
     "output_type": "display_data"
    }
   ],
   "source": [
    "# filtering out the customers who are new\n",
    "filteredTable = CustomerTable[CustomerTable['days_as_customer'] > 115]\n",
    "filteredTable = filteredTable[[\"total_spent\", \"NumberOrders\",'days_as_customer','NumberItems',\n",
    "                    'OrderFrequency','CustomerID', 'DormantCustomer']]\n",
    "plt.figure(figsize=(12,7))\n",
    "sns.boxplot(x=\"DormantCustomer\", y=\"days_as_customer\", data=filteredTable, palette='Set1', showfliers=False)"
   ]
  },
  {
   "cell_type": "markdown",
   "metadata": {},
   "source": [
    "---\n",
    "# Create our Preprocess/train/test/validate Script"
   ]
  },
  {
   "cell_type": "code",
   "execution_count": 29,
   "metadata": {
    "collapsed": true
   },
   "outputs": [],
   "source": [
    "\"\"\"\n",
    "Preprocess script takes in a model (data frame) and the number of input features it has\n",
    "It will shuffle the data, get the input features, create a train, validate, and test split\n",
    "then perform smote oversampling to prevent \n",
    "\"\"\"\n",
    "def preprocess(model, number_input_features):\n",
    "    \n",
    "    model = shuffle(model)                                   # shuffle\n",
    "    features = model.columns[:number_input_features]         # get input features\n",
    "\n",
    "    # train test split\n",
    "    train, validate, test = np.split(model.sample(frac=1), \n",
    "                                     [int(.6*len(model)), \n",
    "                                      int(.8*len(model))])\n",
    "\n",
    "    \n",
    "    xtrain = train[features]\n",
    "    ytrain = train['DormantCustomer']\n",
    "\n",
    "    xvalidate = validate[features]\n",
    "    yvalidate = validate['DormantCustomer']\n",
    "\n",
    "    xtest = test[features]\n",
    "    ytest = test['DormantCustomer']\n",
    "\n",
    "    # Perform SMOTE oversampling on training set\n",
    "    sm = SMOTE(random_state=12, ratio = 1.0)\n",
    "    x_train, y_train = sm.fit_sample(xtrain, ytrain)\n",
    "    \n",
    "    return x_train, y_train, xvalidate, yvalidate, xtest, ytest, features"
   ]
  },
  {
   "cell_type": "markdown",
   "metadata": {},
   "source": [
    "---\n",
    "# Create Train/Prediction Script"
   ]
  },
  {
   "cell_type": "code",
   "execution_count": 30,
   "metadata": {
    "collapsed": true
   },
   "outputs": [],
   "source": [
    "def run_model(model, number_input_features):    \n",
    "    # call preprocess function\n",
    "    xtrain, ytrain, xvalidate, yvalidate, xtest, ytest, features = preprocess(model, number_input_features)\n",
    "\n",
    "    # instantiate model and train\n",
    "    clf = RandomForestClassifier(n_jobs=2, max_depth=6)\n",
    "    clf.fit(xtrain, ytrain)\n",
    "\n",
    "    # get validate and test predictions\n",
    "    validation_predictions = clf.predict(xvalidate)\n",
    "    test_predictions = clf.predict(xtest)\n",
    "    \n",
    "    # confusion matrix results for validation set\n",
    "    cm_validate = confusion_matrix(yvalidate, validation_predictions, labels=[1, 0])\n",
    "    get_metrics(cm_validate, 'Validate')\n",
    "    \n",
    "    # confusion matrix result for test set\n",
    "    cm_test = confusion_matrix(ytest, test_predictions, labels=[1, 0])\n",
    "    get_metrics(cm_test, 'Test')\n",
    "    \n",
    "    # feature importance\n",
    "    print(list(zip(features, clf.feature_importances_)))\n",
    "\n",
    "    # get validate and test predictions for probabilities\n",
    "    validation_prediction_probabilities = clf.predict_proba(xvalidate)\n",
    "    test_predictions_probabilities = clf.predict_proba(xtest)\n",
    "    return validation_prediction_probabilities, yvalidate"
   ]
  },
  {
   "cell_type": "markdown",
   "metadata": {},
   "source": [
    "# Create script to get confusion matrix metrics"
   ]
  },
  {
   "cell_type": "code",
   "execution_count": 31,
   "metadata": {
    "collapsed": true
   },
   "outputs": [],
   "source": [
    "def get_metrics(cm, set_type):               # set_type is either validation or test\n",
    "    accuracy = (cm[0,0]+cm[1,1])/(cm[0,0]+cm[0,1]+cm[1,0]+cm[1,1])\n",
    "    precision = cm[0,0]/(cm[0,0]+cm[1,0])\n",
    "    recall = cm[0,0]/(cm[0,0]+cm[0,1])\n",
    "    print(f'{set_type} Accuracy: ', accuracy, \n",
    "          f'\\n {set_type} Precision:', precision, \n",
    "          f'\\n {set_type} Recall:', recall,\n",
    "         '\\n Confusion Matrix', cm)"
   ]
  },
  {
   "cell_type": "markdown",
   "metadata": {},
   "source": [
    "---\n",
    "# Define ML imports"
   ]
  },
  {
   "cell_type": "code",
   "execution_count": 32,
   "metadata": {
    "collapsed": true
   },
   "outputs": [],
   "source": [
    "from sklearn.utils import shuffle\n",
    "from imblearn.over_sampling import SMOTE\n",
    "from sklearn.metrics import confusion_matrix\n",
    "from sklearn.ensemble import RandomForestClassifier"
   ]
  },
  {
   "cell_type": "markdown",
   "metadata": {},
   "source": [
    "---\n",
    "# Prediction A - Baseline \n",
    "Let's try and predict whether a customer is going to go **dormant**. We will make use of the following input features when trying to make this prediction:\n",
    "* **Number Of Orders**\n",
    "* **Days as a Customer**\n",
    "* **Number of Items Purchased**\n",
    "* **Order Frequency**\n",
    "\n",
    "Lets run model A."
   ]
  },
  {
   "cell_type": "code",
   "execution_count": 33,
   "metadata": {},
   "outputs": [
    {
     "name": "stderr",
     "output_type": "stream",
     "text": [
      "/usr/local/lib/python3.6/site-packages/sklearn/utils/deprecation.py:77: DeprecationWarning: Function _ratio_float is deprecated; Use a float for 'ratio' is deprecated from version 0.2. The support will be removed in 0.4. Use a dict, str, or a callable instead.\n",
      "  warnings.warn(msg, category=DeprecationWarning)\n"
     ]
    },
    {
     "name": "stdout",
     "output_type": "stream",
     "text": [
      "Validate Accuracy:  0.8329519450800915 \n",
      " Validate Precision: 0.6480263157894737 \n",
      " Validate Recall: 0.8347457627118644 \n",
      " Confusion Matrix [[197  39]\n",
      " [107 531]]\n",
      "Test Accuracy:  0.8034285714285714 \n",
      " Test Precision: 0.611731843575419 \n",
      " Test Recall: 0.8690476190476191 \n",
      " Confusion Matrix [[219  33]\n",
      " [139 484]]\n",
      "[('NumberOrders', 0.14037703162084297), ('days_as_customer', 0.23341945494735664), ('NumberItems', 0.0945039303154048), ('OrderFrequency', 0.5316995831163956)]\n"
     ]
    }
   ],
   "source": [
    "model_A = CustomerTable[[\"NumberOrders\",'days_as_customer','NumberItems',\n",
    "                    'OrderFrequency','CustomerID', 'DormantCustomer']]\n",
    "\n",
    "# run model A and determine prediction outcomes\n",
    "_, _ = run_model(model_A, 4)"
   ]
  },
  {
   "cell_type": "markdown",
   "metadata": {
    "collapsed": true
   },
   "source": [
    "---\n",
    "# Prediction B - Utilize Total Amount Spent \n",
    "Again, we are going to try and predict whether a customer is going to go **dormant**. We will make use of the following input features when trying to make this prediction:\n",
    "* **Number Of Orders**\n",
    "* **Days as a Customer**\n",
    "* **Number of Items Purchased**\n",
    "* **Order Frequency**\n",
    "* **Total Amount Spent**\n",
    "\n",
    "Lets run model B."
   ]
  },
  {
   "cell_type": "code",
   "execution_count": 34,
   "metadata": {},
   "outputs": [
    {
     "name": "stderr",
     "output_type": "stream",
     "text": [
      "/usr/local/lib/python3.6/site-packages/sklearn/utils/deprecation.py:77: DeprecationWarning: Function _ratio_float is deprecated; Use a float for 'ratio' is deprecated from version 0.2. The support will be removed in 0.4. Use a dict, str, or a callable instead.\n",
      "  warnings.warn(msg, category=DeprecationWarning)\n"
     ]
    },
    {
     "name": "stdout",
     "output_type": "stream",
     "text": [
      "Validate Accuracy:  0.8203661327231121 \n",
      " Validate Precision: 0.6171617161716172 \n",
      " Validate Recall: 0.8201754385964912 \n",
      " Confusion Matrix [[187  41]\n",
      " [116 530]]\n",
      "Test Accuracy:  0.8411428571428572 \n",
      " Test Precision: 0.6666666666666666 \n",
      " Test Recall: 0.8699186991869918 \n",
      " Confusion Matrix [[214  32]\n",
      " [107 522]]\n",
      "[('total_spent', 0.19317869229414578), ('NumberOrders', 0.09499191548992812), ('days_as_customer', 0.32761487844690945), ('NumberItems', 0.11190309310674396), ('OrderFrequency', 0.2723114206622726)]\n"
     ]
    }
   ],
   "source": [
    "model_B = CustomerTable[[\"total_spent\", \"NumberOrders\",'days_as_customer','NumberItems',\n",
    "                    'OrderFrequency','CustomerID', 'DormantCustomer']]\n",
    "\n",
    "# run model A and determine prediction outcomes\n",
    "_, _ = run_model(model_B, 5)"
   ]
  },
  {
   "cell_type": "markdown",
   "metadata": {},
   "source": [
    "Next step is to try and incorporate the most recent purchases into the input data and see how that effects the prediction results. "
   ]
  },
  {
   "cell_type": "code",
   "execution_count": null,
   "metadata": {
    "collapsed": true
   },
   "outputs": [],
   "source": []
  },
  {
   "cell_type": "markdown",
   "metadata": {},
   "source": [
    "---\n",
    "# Prediction C - Look Into Probabilities \n",
    "Let's see how well our 90%+ dormant predictions actually hold up.\n"
   ]
  },
  {
   "cell_type": "code",
   "execution_count": 35,
   "metadata": {
    "scrolled": true
   },
   "outputs": [
    {
     "name": "stderr",
     "output_type": "stream",
     "text": [
      "/usr/local/lib/python3.6/site-packages/sklearn/utils/deprecation.py:77: DeprecationWarning: Function _ratio_float is deprecated; Use a float for 'ratio' is deprecated from version 0.2. The support will be removed in 0.4. Use a dict, str, or a callable instead.\n",
      "  warnings.warn(msg, category=DeprecationWarning)\n"
     ]
    },
    {
     "name": "stdout",
     "output_type": "stream",
     "text": [
      "Validate Accuracy:  0.8032036613272311 \n",
      " Validate Precision: 0.6058823529411764 \n",
      " Validate Recall: 0.8442622950819673 \n",
      " Confusion Matrix [[206  38]\n",
      " [134 496]]\n",
      "Test Accuracy:  0.8571428571428571 \n",
      " Test Precision: 0.7108433734939759 \n",
      " Test Recall: 0.8905660377358491 \n",
      " Confusion Matrix [[236  29]\n",
      " [ 96 514]]\n",
      "[('total_spent', 0.10162711088720384), ('NumberOrders', 0.05079958884838145), ('days_as_customer', 0.22160883382921348), ('NumberItems', 0.09433051762573), ('OrderFrequency', 0.531633948809471)]\n"
     ]
    }
   ],
   "source": [
    "model_C = CustomerTable[[\"total_spent\", \"NumberOrders\",'days_as_customer','NumberItems',\n",
    "                    'OrderFrequency','CustomerID', 'DormantCustomer']]\n",
    "\n",
    "# run model A and determine prediction outcomes\n",
    "validation_prob, validation_targets = run_model(model_C, 5)"
   ]
  },
  {
   "cell_type": "markdown",
   "metadata": {
    "collapsed": true
   },
   "source": [
    "Let's now look at the predictions where the probably of dormant was over 90%. Then we want to see how many of those went dormant. "
   ]
  },
  {
   "cell_type": "code",
   "execution_count": 38,
   "metadata": {},
   "outputs": [
    {
     "name": "stdout",
     "output_type": "stream",
     "text": [
      "Total number of predictions made:  656\n",
      "Number of predictions with great than 90% probability:  161\n",
      "Accuracy when we state there is a 90% chance of dormancy:  0.8819875776397516\n"
     ]
    }
   ],
   "source": [
    "# get total number of predictions made\n",
    "print('Total number of predictions made: ', validation_prob.shape[0])\n",
    "\n",
    "# get the indices where the probability of dormant is greater than 0.9, will be expecting a 1\n",
    "indeces = np.where(validation_prob[:,1] > 0.8)[0]\n",
    "print(\"Number of predictions with great than 80% probability: \", indeces.shape[0])\n",
    "\n",
    "# turn the validation targets into an array \n",
    "val_targ_array = pd.Series.as_matrix(validation_targets)\n",
    "\n",
    "# get the indeces from the target array that correspond to the indeces in the prediction \n",
    "# array were the probability was greater than 0.9. Then get the total number \n",
    "print(\"Accuracy when we state there is a 90% chance of dormancy: \", val_targ_array[indeces].sum() / val_targ_array[indeces].shape[0])"
   ]
  },
  {
   "cell_type": "code",
   "execution_count": 42,
   "metadata": {},
   "outputs": [
    {
     "data": {
      "text/plain": [
       "array([  1,   7,   9,  14,  19,  23,  25,  30,  33,  35,  37,  39,  45,\n",
       "        51,  55,  64,  68,  70,  71,  76,  80,  83,  88,  96, 102, 106,\n",
       "       108, 112, 115, 118, 119, 129, 131, 133, 139, 145, 163, 172, 178,\n",
       "       181, 186, 187, 188, 191, 193, 203, 204, 206, 208, 210, 211, 212,\n",
       "       213, 214, 219, 220, 225, 231, 233, 235, 244, 245, 246, 248, 254,\n",
       "       256, 260, 263, 266, 267, 270, 272, 278, 288, 292, 294, 297, 298,\n",
       "       308, 309, 314, 331, 334, 337, 339, 340, 343, 344, 345, 347, 348,\n",
       "       349, 351, 366, 368, 371, 372, 375, 377, 380, 392, 394, 398, 404,\n",
       "       414, 423, 428, 437, 440, 442, 449, 453, 458, 465, 471, 472, 475,\n",
       "       479, 484, 486, 490, 495, 499, 500, 507, 508, 510, 512, 524, 534,\n",
       "       539, 546, 547, 550, 564, 573, 575, 578, 580, 588, 589, 591, 594,\n",
       "       596, 612, 614, 615, 616, 617, 618, 619, 623, 624, 635, 636, 638,\n",
       "       641, 644, 648, 649, 650])"
      ]
     },
     "execution_count": 42,
     "metadata": {},
     "output_type": "execute_result"
    }
   ],
   "source": [
    "np.where(validation_prob[:,1] > 0.8)[0]"
   ]
  },
  {
   "cell_type": "code",
   "execution_count": 47,
   "metadata": {},
   "outputs": [
    {
     "data": {
      "text/plain": [
       "0.8819875776397516"
      ]
     },
     "execution_count": 47,
     "metadata": {},
     "output_type": "execute_result"
    }
   ],
   "source": [
    "(val_targ_array[np.where(validation_prob[:,1] > 0.8)[0]]).sum() /(val_targ_array[np.where(validation_prob[:,1] > 0.8)[0]]).shape[0]"
   ]
  },
  {
   "cell_type": "markdown",
   "metadata": {},
   "source": [
    "---\n",
    "# Prediction D - Remove any training examples that have not been around for 115 days, since they cannot accurately be labeled"
   ]
  },
  {
   "cell_type": "code",
   "execution_count": 37,
   "metadata": {},
   "outputs": [
    {
     "name": "stderr",
     "output_type": "stream",
     "text": [
      "/usr/local/lib/python3.6/site-packages/sklearn/utils/deprecation.py:77: DeprecationWarning: Function _ratio_float is deprecated; Use a float for 'ratio' is deprecated from version 0.2. The support will be removed in 0.4. Use a dict, str, or a callable instead.\n",
      "  warnings.warn(msg, category=DeprecationWarning)\n"
     ]
    },
    {
     "name": "stdout",
     "output_type": "stream",
     "text": [
      "Validate Accuracy:  0.8079268292682927 \n",
      " Validate Precision: 0.7509293680297398 \n",
      " Validate Recall: 0.7739463601532567 \n",
      " Confusion Matrix [[202  59]\n",
      " [ 67 328]]\n",
      "Test Accuracy:  0.8155487804878049 \n",
      " Test Precision: 0.7297297297297297 \n",
      " Test Recall: 0.7875 \n",
      " Confusion Matrix [[189  51]\n",
      " [ 70 346]]\n",
      "[('total_spent', 0.2735700006470358), ('NumberOrders', 0.3032853484302841), ('days_as_customer', 0.036926588201825185), ('NumberItems', 0.2791851147781495), ('OrderFrequency', 0.10703294794270557)]\n"
     ]
    }
   ],
   "source": [
    "model_D = CustomerTable[CustomerTable['days_as_customer'] > 115]\n",
    "model_D = model_D[[\"total_spent\", \"NumberOrders\",'days_as_customer','NumberItems',\n",
    "                    'OrderFrequency','CustomerID', 'DormantCustomer']]\n",
    "\n",
    "# run model A and determine prediction outcomes\n",
    "validation_prob, validation_targets = run_model(model_D, 5)"
   ]
  },
  {
   "cell_type": "markdown",
   "metadata": {
    "collapsed": true
   },
   "source": [
    "# Next steps\n",
    "* Going to want to normalize the numerical data\n",
    "* Potentially change order frequency to that of the last 30 days? Or something along those lines? \n",
    "* Also, may want to have a feature that factors in users length of time as customer, and number of purchases during that time. That may be order freq. regardless that will help when trying to account for a new user who has NOT bought a lot of items overall, but HAS bought many in the short time they have been a customer \n",
    "* going to want to talk to tom about filtering out the examples that have not been around for 115 days and therefore cannot be accurately labeled \n",
    "* may want to calculate order frequency for past 30 days\n",
    "* next want to add something related to last 5/10 purchases "
   ]
  },
  {
   "cell_type": "code",
   "execution_count": 50,
   "metadata": {},
   "outputs": [
    {
     "data": {
      "text/html": [
       "<div>\n",
       "<style scoped>\n",
       "    .dataframe tbody tr th:only-of-type {\n",
       "        vertical-align: middle;\n",
       "    }\n",
       "\n",
       "    .dataframe tbody tr th {\n",
       "        vertical-align: top;\n",
       "    }\n",
       "\n",
       "    .dataframe thead th {\n",
       "        text-align: right;\n",
       "    }\n",
       "</style>\n",
       "<table border=\"1\" class=\"dataframe\">\n",
       "  <thead>\n",
       "    <tr style=\"text-align: right;\">\n",
       "      <th></th>\n",
       "      <th>CustomerID</th>\n",
       "      <th>total_spent</th>\n",
       "      <th>NumberOrders</th>\n",
       "      <th>EarliestInvoice</th>\n",
       "      <th>days_as_customer</th>\n",
       "      <th>last_purchase</th>\n",
       "      <th>days_since_purchase</th>\n",
       "      <th>NumberItems</th>\n",
       "      <th>BigSpender</th>\n",
       "      <th>ManyOrders</th>\n",
       "      <th>LoyalCustomer</th>\n",
       "      <th>DormantCustomer</th>\n",
       "      <th>OrderFrequency</th>\n",
       "    </tr>\n",
       "  </thead>\n",
       "  <tbody>\n",
       "    <tr>\n",
       "      <th>0</th>\n",
       "      <td>12346</td>\n",
       "      <td>0.00</td>\n",
       "      <td>2</td>\n",
       "      <td>2011-01-18 10:01:00</td>\n",
       "      <td>326.0</td>\n",
       "      <td>2011-01-18 10:17:00</td>\n",
       "      <td>326.0</td>\n",
       "      <td>0</td>\n",
       "      <td>No</td>\n",
       "      <td>No</td>\n",
       "      <td>No</td>\n",
       "      <td>1</td>\n",
       "      <td>0.006135</td>\n",
       "    </tr>\n",
       "    <tr>\n",
       "      <th>1</th>\n",
       "      <td>12347</td>\n",
       "      <td>4310.00</td>\n",
       "      <td>182</td>\n",
       "      <td>2010-12-07 14:57:00</td>\n",
       "      <td>367.0</td>\n",
       "      <td>2011-12-07 15:52:00</td>\n",
       "      <td>2.0</td>\n",
       "      <td>2458</td>\n",
       "      <td>Yes</td>\n",
       "      <td>Yes</td>\n",
       "      <td>Yes</td>\n",
       "      <td>0</td>\n",
       "      <td>0.495913</td>\n",
       "    </tr>\n",
       "    <tr>\n",
       "      <th>2</th>\n",
       "      <td>12348</td>\n",
       "      <td>1797.24</td>\n",
       "      <td>31</td>\n",
       "      <td>2010-12-16 19:09:00</td>\n",
       "      <td>358.0</td>\n",
       "      <td>2011-09-25 13:13:00</td>\n",
       "      <td>75.0</td>\n",
       "      <td>2341</td>\n",
       "      <td>Yes</td>\n",
       "      <td>No</td>\n",
       "      <td>Yes</td>\n",
       "      <td>0</td>\n",
       "      <td>0.086592</td>\n",
       "    </tr>\n",
       "    <tr>\n",
       "      <th>3</th>\n",
       "      <td>12349</td>\n",
       "      <td>1757.55</td>\n",
       "      <td>73</td>\n",
       "      <td>2011-11-21 09:51:00</td>\n",
       "      <td>19.0</td>\n",
       "      <td>2011-11-21 09:51:00</td>\n",
       "      <td>19.0</td>\n",
       "      <td>631</td>\n",
       "      <td>Yes</td>\n",
       "      <td>No</td>\n",
       "      <td>No</td>\n",
       "      <td>0</td>\n",
       "      <td>3.842105</td>\n",
       "    </tr>\n",
       "    <tr>\n",
       "      <th>4</th>\n",
       "      <td>12350</td>\n",
       "      <td>334.40</td>\n",
       "      <td>17</td>\n",
       "      <td>2011-02-02 16:01:00</td>\n",
       "      <td>310.0</td>\n",
       "      <td>2011-02-02 16:01:00</td>\n",
       "      <td>310.0</td>\n",
       "      <td>197</td>\n",
       "      <td>No</td>\n",
       "      <td>No</td>\n",
       "      <td>No</td>\n",
       "      <td>1</td>\n",
       "      <td>0.054839</td>\n",
       "    </tr>\n",
       "  </tbody>\n",
       "</table>\n",
       "</div>"
      ],
      "text/plain": [
       "  CustomerID  total_spent  NumberOrders     EarliestInvoice  days_as_customer  \\\n",
       "0      12346         0.00             2 2011-01-18 10:01:00             326.0   \n",
       "1      12347      4310.00           182 2010-12-07 14:57:00             367.0   \n",
       "2      12348      1797.24            31 2010-12-16 19:09:00             358.0   \n",
       "3      12349      1757.55            73 2011-11-21 09:51:00              19.0   \n",
       "4      12350       334.40            17 2011-02-02 16:01:00             310.0   \n",
       "\n",
       "        last_purchase  days_since_purchase  NumberItems BigSpender ManyOrders  \\\n",
       "0 2011-01-18 10:17:00                326.0            0         No         No   \n",
       "1 2011-12-07 15:52:00                  2.0         2458        Yes        Yes   \n",
       "2 2011-09-25 13:13:00                 75.0         2341        Yes         No   \n",
       "3 2011-11-21 09:51:00                 19.0          631        Yes         No   \n",
       "4 2011-02-02 16:01:00                310.0          197         No         No   \n",
       "\n",
       "  LoyalCustomer  DormantCustomer  OrderFrequency  \n",
       "0            No                1        0.006135  \n",
       "1           Yes                0        0.495913  \n",
       "2           Yes                0        0.086592  \n",
       "3            No                0        3.842105  \n",
       "4            No                1        0.054839  "
      ]
     },
     "execution_count": 50,
     "metadata": {},
     "output_type": "execute_result"
    }
   ],
   "source": [
    "CCustomerTable.head()"
   ]
  },
  {
   "cell_type": "code",
   "execution_count": 67,
   "metadata": {},
   "outputs": [
    {
     "data": {
      "text/plain": [
       "[<matplotlib.lines.Line2D at 0x11140d390>]"
      ]
     },
     "execution_count": 67,
     "metadata": {},
     "output_type": "execute_result"
    },
    {
     "data": {
      "image/png": "[encoded data removed]",
      "text/plain": [
       "<matplotlib.figure.Figure at 0x111677160>"
      ]
     },
     "metadata": {},
     "output_type": "display_data"
    }
   ],
   "source": [
    "x = (CustomerTable['NumberItems'] - CustomerTable['NumberItems'].mean()) / CustomerTable['NumberItems'].std()\n",
    "plt.plot(np.linspace(-0.3050305679491978, 41.858, len(x) ) ,x)"
   ]
  },
  {
   "cell_type": "code",
   "execution_count": 68,
   "metadata": {},
   "outputs": [
    {
     "data": {
      "text/plain": [
       "0      -0.240187\n",
       "1       0.285837\n",
       "2       0.260798\n",
       "3      -0.105150\n",
       "4      -0.198028\n",
       "5      -0.139605\n",
       "6      -0.235907\n",
       "7      -0.126765\n",
       "8      -0.188826\n",
       "9       0.100295\n",
       "10      0.339338\n",
       "11     -0.187114\n",
       "12      0.104789\n",
       "13      0.009129\n",
       "14     -0.220713\n",
       "15      0.233192\n",
       "16     -0.152873\n",
       "17      0.082104\n",
       "18     -0.203164\n",
       "19     -0.203164\n",
       "20      0.263366\n",
       "21     -0.113710\n",
       "22     -0.070267\n",
       "23     -0.198028\n",
       "24     -0.166997\n",
       "25     -0.202308\n",
       "26     -0.038166\n",
       "27      0.301031\n",
       "28     -0.153301\n",
       "29      0.000782\n",
       "          ...   \n",
       "4342    0.140956\n",
       "4343   -0.204662\n",
       "4344   -0.132971\n",
       "4345   -0.212794\n",
       "4346   -0.197814\n",
       "4347    1.434187\n",
       "4348   -0.189040\n",
       "4349   -0.224351\n",
       "4350   -0.255167\n",
       "4351   -0.024042\n",
       "4352   -0.087388\n",
       "4353    0.074186\n",
       "4354   -0.208942\n",
       "4355   -0.201238\n",
       "4356    0.073758\n",
       "4357   -0.173632\n",
       "4358   -0.240187\n",
       "4359   -0.225207\n",
       "4360   -0.219429\n",
       "4361    0.197239\n",
       "4362   -0.223067\n",
       "4363   -0.240187\n",
       "4364   -0.200810\n",
       "4365   -0.225849\n",
       "4366   -0.226063\n",
       "4367   -0.230557\n",
       "4368   -0.228631\n",
       "4369   -0.219215\n",
       "4370    0.058778\n",
       "4371    0.099225\n",
       "Name: NumberItems, Length: 4372, dtype: float64"
      ]
     },
     "execution_count": 68,
     "metadata": {},
     "output_type": "execute_result"
    }
   ],
   "source": [
    "x"
   ]
  },
  {
   "cell_type": "code",
   "execution_count": 65,
   "metadata": {},
   "outputs": [
    {
     "data": {
      "text/plain": [
       "1000"
      ]
     },
     "execution_count": 65,
     "metadata": {},
     "output_type": "execute_result"
    }
   ],
   "source": [
    "len(np.linspace(-0.3050305679491978, 41.858, 1000 ))"
   ]
  },
  {
   "cell_type": "code",
   "execution_count": 75,
   "metadata": {},
   "outputs": [
    {
     "data": {
      "text/plain": [
       "-0.0015402680981501532"
      ]
     },
     "execution_count": 75,
     "metadata": {},
     "output_type": "execute_result"
    }
   ],
   "source": []
  },
  {
   "cell_type": "code",
   "execution_count": null,
   "metadata": {
    "collapsed": true
   },
   "outputs": [],
   "source": []
  },
  {
   "cell_type": "code",
   "execution_count": null,
   "metadata": {
    "collapsed": true
   },
   "outputs": [],
   "source": []
  },
  {
   "cell_type": "code",
   "execution_count": null,
   "metadata": {
    "collapsed": true
   },
   "outputs": [],
   "source": []
  }
 ],
 "metadata": {
  "kernelspec": {
   "display_name": "Python 3",
   "language": "python3",
   "name": "python3"
  },
  "language_info": {
   "codemirror_mode": {
    "name": "ipython",
    "version": 3
   },
   "file_extension": ".py",
   "mimetype": "text/x-python",
   "name": "python",
   "nbconvert_exporter": "python",
   "pygments_lexer": "ipython3",
   "version": "3.6.4"
  }
 },
 "nbformat": 4,
 "nbformat_minor": 2
}
