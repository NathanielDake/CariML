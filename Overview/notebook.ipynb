{
 "cells": [
  {
   "cell_type": "code",
   "execution_count": null,
   "metadata": {
    "_cell_guid": "c778ce35-9d2d-4b21-ac09-d0fc4b8ec032",
    "_uuid": "f58e77c39ece19a822fbb1726c910db314c58d46",
    "collapsed": true
   },
   "outputs": [],
   "source": [
    "#import the data, specify data types\n",
    "import pandas as pd\n",
    "df = pd.read_csv('../input/data.csv',encoding=\"ISO-8859-1\",dtype={'CustomerID': str,'InvoiceID': str})\n",
    "df.InvoiceDate = pd.to_datetime(df.InvoiceDate, format=\"%m/%d/%Y %H:%M\")\n",
    "df.info() "
   ]
  },
  {
   "cell_type": "code",
   "execution_count": null,
   "metadata": {
    "_cell_guid": "2cc9f25d-2d36-42b9-89ee-513f3bfd7df2",
    "_uuid": "3e6e926585b3e043f355fd983ec7dce3aff12f86",
    "collapsed": true
   },
   "outputs": [],
   "source": [
    "df.head()"
   ]
  },
  {
   "cell_type": "code",
   "execution_count": null,
   "metadata": {
    "_cell_guid": "52bb267b-0dc1-4069-831f-d8e90eb203a4",
    "_uuid": "b2ab3783fb999a33f9e8d660dda2985359a6f09c",
    "collapsed": true
   },
   "outputs": [],
   "source": [
    "df.describe()"
   ]
  },
  {
   "cell_type": "code",
   "execution_count": null,
   "metadata": {
    "_cell_guid": "3e4c2f44-e87a-4229-a191-71077ae87ed7",
    "_uuid": "a3133747a52a272f36faff528caaff04964cf6ab",
    "collapsed": true
   },
   "outputs": [],
   "source": [
    "#remove the negative values and replace with nan\n",
    "import numpy as np\n",
    "df[df['Quantity'] < 0] = np.nan\n",
    "df[df['UnitPrice'] < 0] = np.nan\n",
    "df.describe()"
   ]
  },
  {
   "cell_type": "code",
   "execution_count": null,
   "metadata": {
    "_cell_guid": "f3c1426e-507c-477d-9245-21c9f953c62b",
    "_uuid": "fb456b574998deb414d1cbf75153be1be2d09fd8",
    "collapsed": true
   },
   "outputs": [],
   "source": [
    "#get the total spent for each line item\n",
    "df['total_dollars'] = df['Quantity']*df['UnitPrice']\n",
    "df.describe()"
   ]
  },
  {
   "cell_type": "markdown",
   "metadata": {
    "_cell_guid": "8c122f42-b763-4fdc-bd72-ccb7dfeeb3aa",
    "_uuid": "fc7da896a53cefef85b70f72d2c2d69902bd7c1b"
   },
   "source": [
    "## Building a customer table"
   ]
  },
  {
   "cell_type": "markdown",
   "metadata": {
    "_cell_guid": "bd43b072-c22c-49ca-a073-575b426ad57b",
    "_uuid": "5ec8784eb28066de70984415deda7405f156aeb3"
   },
   "source": [
    "Let's aggregrate transaction data to learn more about our customers."
   ]
  },
  {
   "cell_type": "code",
   "execution_count": null,
   "metadata": {
    "_cell_guid": "82b1eda4-ee2c-4b81-a501-694be9535328",
    "_uuid": "864d3c8b8ef5616b59222d42e9aea29601eb8d9e",
    "collapsed": true
   },
   "outputs": [],
   "source": [
    "#how many orders have they made\n",
    "invoice_ct = df.groupby(by='CustomerID', as_index=False)['InvoiceNo'].count()\n",
    "invoice_ct.columns = ['CustomerID', 'NumberOrders']\n",
    "invoice_ct.describe()"
   ]
  },
  {
   "cell_type": "code",
   "execution_count": null,
   "metadata": {
    "_cell_guid": "59eb7ef7-fc99-41da-82ae-6b470cdd6c2f",
    "_uuid": "7bbff9bcc1af9c7b3e79733e0aca5d7bbfa3c27e",
    "collapsed": true
   },
   "outputs": [],
   "source": [
    "#how much money have they spent\n",
    "total_spend = df.groupby(by='CustomerID', as_index=False)['total_dollars'].sum()\n",
    "total_spend.columns = ['CustomerID', 'total_spent']\n",
    "total_spend.describe()"
   ]
  },
  {
   "cell_type": "code",
   "execution_count": null,
   "metadata": {
    "_cell_guid": "9ba8c50f-d984-4971-94ea-db72a9e3bca6",
    "_uuid": "5c65156b29f049acb0443237c3374d3fe723ebfe",
    "collapsed": true
   },
   "outputs": [],
   "source": [
    "#how many items they bought\n",
    "total_items = df.groupby(by='CustomerID', as_index=False)['Quantity'].sum()\n",
    "total_items.columns = ['CustomerID', 'NumberItems']\n",
    "total_items.describe()"
   ]
  },
  {
   "cell_type": "code",
   "execution_count": null,
   "metadata": {
    "_cell_guid": "81450b73-1cfc-46c7-8749-f7ea5b9f155c",
    "_uuid": "798b1279b63b68986b4758f17dec7b02fca5f0aa",
    "collapsed": true
   },
   "outputs": [],
   "source": [
    "#when was their first order and how long ago was that from the last date in file (presumably\n",
    "#when the data were pulled)\n",
    "earliest_order = df.groupby(by='CustomerID', as_index=False)['InvoiceDate'].min()\n",
    "earliest_order.columns = ['CustomerID', 'EarliestInvoice']\n",
    "earliest_order['now'] = pd.to_datetime((df['InvoiceDate']).max())\n",
    "earliest_order['days_as_customer'] = 1 + (earliest_order.now-earliest_order.EarliestInvoice).astype('timedelta64[D]')\n",
    "earliest_order.drop('now', axis=1, inplace=True)\n",
    "earliest_order"
   ]
  },
  {
   "cell_type": "code",
   "execution_count": null,
   "metadata": {
    "_cell_guid": "e98bec1c-3d8d-4c1d-ac40-0d8c17662675",
    "_uuid": "6239ff019a4b450bfb762346a9c003224d1df58f",
    "collapsed": true
   },
   "outputs": [],
   "source": [
    "#when was their last order and how long ago was that from the last date in file (presumably\n",
    "#when the data were pulled)\n",
    "last_order = df.groupby(by='CustomerID', as_index=False)['InvoiceDate'].max()\n",
    "last_order.columns = ['CustomerID', 'last_purchase']\n",
    "last_order['now'] = pd.to_datetime((df['InvoiceDate']).max())\n",
    "last_order['days_since_purchase'] = 1 + (last_order.now-last_order.last_purchase).astype('timedelta64[D]')\n",
    "last_order.drop('now', axis=1, inplace=True)\n",
    "last_order.head"
   ]
  },
  {
   "cell_type": "code",
   "execution_count": null,
   "metadata": {
    "_cell_guid": "054555c4-687b-44af-b1c9-409c08ffc88d",
    "_uuid": "936f3e71c505cb83938458576b86e8b9cf58f718",
    "collapsed": true
   },
   "outputs": [],
   "source": [
    "#combine all the dataframes into one\n",
    "import functools\n",
    "dfs = [total_spend,invoice_ct,earliest_order,last_order,total_items]\n",
    "CustomerTable = functools.reduce(lambda left,right: pd.merge(left,right,on='CustomerID', how='outer'), dfs)\n",
    "CustomerTable.head()"
   ]
  },
  {
   "cell_type": "code",
   "execution_count": null,
   "metadata": {
    "_cell_guid": "d5e9a07b-f8d8-4457-8db4-d27946a28b9d",
    "_uuid": "f7390ee86edb782d1e1436cd0e3040c34c2f6c87",
    "collapsed": true
   },
   "outputs": [],
   "source": [
    "#how many customers?\n",
    "len(CustomerTable)"
   ]
  },
  {
   "cell_type": "code",
   "execution_count": null,
   "metadata": {
    "_cell_guid": "a95d231f-ea6f-48ae-97f1-6145cb9dab7a",
    "_uuid": "c2972e08c969b7e71bd77ab1a4508101304a9ee7",
    "collapsed": true
   },
   "outputs": [],
   "source": [
    "CustomerTable.describe()"
   ]
  },
  {
   "cell_type": "code",
   "execution_count": null,
   "metadata": {
    "_cell_guid": "247b454c-e552-489b-9a03-77a33a023bc1",
    "_uuid": "49b2bb3ebf427f5caa07d851d0553ca75cc5fca9",
    "collapsed": true
   },
   "outputs": [],
   "source": [
    "#identify and separate big spenders, lots of orders, long-time customers, dormant customers for\n",
    "#sales and marketing campaign use; need to be separate flags because they aren't all mutually\n",
    "#exclusive\n",
    "\n",
    "def big_spender(row):\n",
    "    if row['total_spent'] >= 1661.64:\n",
    "        return 'Yes'\n",
    "    else:\n",
    "        return 'No'\n",
    "\n",
    "def many_orders(row):\n",
    "    if row['NumberOrders'] >= 100:\n",
    "        return 'Yes'\n",
    "    else:\n",
    "        return 'No'\n",
    "\n",
    "def loyal_customer(row):\n",
    "    if row['days_as_customer'] >= 326:\n",
    "        return 'Yes' \n",
    "    else:\n",
    "        return 'No'\n",
    "\n",
    "def dormant_customer(row):\n",
    "    if row['days_since_purchase'] >= 141:\n",
    "        return 'Yes' \n",
    "    else:\n",
    "        return 'No'\n",
    "\n",
    "CustomerTable['BigSpender'] = CustomerTable.apply(big_spender, axis=1)\n",
    "CustomerTable['ManyOrders'] = CustomerTable.apply(many_orders, axis=1)\n",
    "CustomerTable['LoyalCustomer'] = CustomerTable.apply(loyal_customer, axis=1)\n",
    "CustomerTable['DormantCustomer'] = CustomerTable.apply(dormant_customer, axis=1)\n",
    "\n",
    "CustomerTable['OrderFrequency'] = CustomerTable['NumberOrders']/CustomerTable['days_as_customer']\n",
    "\n",
    "CustomerTable.head(10)"
   ]
  },
  {
   "cell_type": "code",
   "execution_count": null,
   "metadata": {
    "_cell_guid": "ffe1f38d-5e1c-40f3-b911-a6bea739522c",
    "_uuid": "0202acfc14845f97107429c27f9decb5fcf058c3",
    "collapsed": true
   },
   "outputs": [],
   "source": [
    "#look at the distributions and relationships with other continuous variables\n",
    "import seaborn as sns\n",
    "sns.pairplot(CustomerTable, vars=[\"total_spent\", \"NumberOrders\",'days_as_customer',\n",
    "                                  'days_since_purchase','NumberItems','OrderFrequency'])"
   ]
  },
  {
   "cell_type": "code",
   "execution_count": null,
   "metadata": {
    "_cell_guid": "6d37e310-5962-4d2e-8d1e-6dbf44f967d3",
    "_uuid": "294ad2b107bdf8f0af8d987ad096e75d2001406c",
    "collapsed": true
   },
   "outputs": [],
   "source": [
    "RF = CustomerTable[[\"NumberOrders\",'days_as_customer','NumberItems','BigSpender','CustomerID']]\n",
    "features = RF.columns[:3]\n",
    "features"
   ]
  },
  {
   "cell_type": "code",
   "execution_count": null,
   "metadata": {
    "_cell_guid": "40496918-62fe-493e-a519-84a181a88269",
    "_uuid": "6eb3e582b29c9d7c8622a0a935de6553b9843430",
    "collapsed": true
   },
   "outputs": [],
   "source": [
    "RF['is_train'] = np.random.uniform(0, 1, len(RF)) <= .8\n",
    "train, test = RF[RF['is_train']==True], RF[RF['is_train']==False]\n",
    "print('Number of observations in the training data:', len(train))\n",
    "print('Number of observations in the test data:',len(test))"
   ]
  },
  {
   "cell_type": "code",
   "execution_count": null,
   "metadata": {
    "_cell_guid": "58603e4f-ca33-46c9-a80e-5b61d53d0c18",
    "_uuid": "0d664ccb53826532b0efc257703b90e1cbd2b57a",
    "collapsed": true
   },
   "outputs": [],
   "source": [
    "y = pd.factorize(train['BigSpender'])[0]\n",
    "y[0:10] #show the first ten; 'No' = 0"
   ]
  },
  {
   "cell_type": "code",
   "execution_count": null,
   "metadata": {
    "_cell_guid": "bbc4f535-367b-48c4-8e3d-a411bd8fb251",
    "_uuid": "811f5c5a125d68520eef52c0aa3f95e8cb230b09",
    "collapsed": true
   },
   "outputs": [],
   "source": [
    "from sklearn.ensemble import RandomForestClassifier\n",
    "clf = RandomForestClassifier(n_jobs=2)\n",
    "clf.fit(train[features], y)\n",
    "list(zip(train[features], clf.feature_importances_))"
   ]
  },
  {
   "cell_type": "code",
   "execution_count": null,
   "metadata": {
    "_cell_guid": "2e0158eb-3214-4e4f-a6c6-8503675ad6a1",
    "_uuid": "e334c06a56c95f9a41edf6643f2f11f5dd79cadb",
    "collapsed": true
   },
   "outputs": [],
   "source": [
    "clf.predict_proba(test[features])[0:10]"
   ]
  },
  {
   "cell_type": "code",
   "execution_count": null,
   "metadata": {
    "_cell_guid": "8d972987-df04-4c47-b522-b02b7c6c76d0",
    "_uuid": "cc0713eb7b0c50a8370f35ae4de9ef333c9e3203",
    "collapsed": true
   },
   "outputs": [],
   "source": [
    "test['Prediction'] = clf.predict(test[features])\n",
    "test.head()"
   ]
  }
 ],
 "metadata": {
  "kernelspec": {
   "display_name": "Python 3",
   "language": "python3",
   "name": "python3"
  },
  "language_info": {
   "codemirror_mode": {
    "name": "ipython",
    "version": 3
   },
   "file_extension": ".py",
   "mimetype": "text/x-python",
   "name": "python",
   "nbconvert_exporter": "python",
   "pygments_lexer": "ipython3",
   "version": "3.6.4"
  }
 },
 "nbformat": 4,
 "nbformat_minor": 1
}
